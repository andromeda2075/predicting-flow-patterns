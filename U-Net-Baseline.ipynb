{
 "cells": [
  {
   "cell_type": "code",
   "execution_count": 6,
   "metadata": {},
   "outputs": [
    {
     "name": "stderr",
     "output_type": "stream",
     "text": [
      "2025-05-20 23:05:50.072124: I tensorflow/core/util/port.cc:153] oneDNN custom operations are on. You may see slightly different numerical results due to floating-point round-off errors from different computation orders. To turn them off, set the environment variable `TF_ENABLE_ONEDNN_OPTS=0`.\n",
      "2025-05-20 23:05:50.189632: E external/local_xla/xla/stream_executor/cuda/cuda_fft.cc:485] Unable to register cuFFT factory: Attempting to register factory for plugin cuFFT when one has already been registered\n",
      "2025-05-20 23:05:50.253648: E external/local_xla/xla/stream_executor/cuda/cuda_dnn.cc:8454] Unable to register cuDNN factory: Attempting to register factory for plugin cuDNN when one has already been registered\n",
      "2025-05-20 23:05:50.278980: E external/local_xla/xla/stream_executor/cuda/cuda_blas.cc:1452] Unable to register cuBLAS factory: Attempting to register factory for plugin cuBLAS when one has already been registered\n",
      "2025-05-20 23:05:50.361502: I tensorflow/core/platform/cpu_feature_guard.cc:210] This TensorFlow binary is optimized to use available CPU instructions in performance-critical operations.\n",
      "To enable the following instructions: AVX2 AVX_VNNI FMA, in other operations, rebuild TensorFlow with the appropriate compiler flags.\n",
      "2025-05-20 23:05:51.020795: W tensorflow/compiler/tf2tensorrt/utils/py_utils.cc:38] TF-TRT Warning: Could not find TensorRT\n"
     ]
    }
   ],
   "source": [
    "import keras\n",
    "import datetime\n",
    "import tensorflow                       as tf\n",
    "from tensorflow.keras.callbacks         import TensorBoard\n",
    "from tensorflow.keras.layers            import Input, Lambda,UpSampling2D, Conv2D,Dropout,MaxPooling2D,Conv2DTranspose,concatenate,BatchNormalization, Activation\n",
    "from tensorflow.keras.models            import Model\n",
    "from tensorflow.keras.optimizers        import Adam,RMSprop\n",
    "from keras.utils                        import plot_model\n",
    "from tensorflow.keras                   import layers, models\n",
    "from tensorflow.keras.losses            import mae\n",
    "import sys\n",
    "import os\n",
    "import numpy as np\n",
    "import math\n",
    "import random, time\n",
    "from pathlib                        import Path\n",
    "from PIL                            import Image\n",
    "\n",
    "import skimage                      as ski\n",
    "from   skimage.filters              import threshold_otsu\n",
    "from   skimage                      import io, color\n",
    "from   skimage.color                import rgb2gray\n",
    "from   skimage                      import filters\n",
    "import cv2                          as cv\n",
    "import matplotlib.pyplot            as plt \n",
    "import gc\n",
    "import glob\n",
    "from skimage                        import img_as_ubyte\n",
    "from skimage                        import io\n",
    "import shutil\n",
    "tf.keras.backend.clear_session()"
   ]
  },
  {
   "cell_type": "markdown",
   "metadata": {},
   "source": [
    "### <font color=\"red\">1. Processing data</font>\n"
   ]
  },
  {
   "cell_type": "markdown",
   "metadata": {},
   "source": [
    "#### <font color=\"red\">1.1. Selecting a Sample</font>"
   ]
  },
  {
   "cell_type": "code",
   "execution_count": 8,
   "metadata": {},
   "outputs": [],
   "source": [
    "#general_path_data = '/home/ppgi/Trabajo/Codigos_generate_data/DLCODES-VER-5'\n",
    "general_path_data ='/home/guiomar/Desktop/CODES/Generation_Data/Proyecto_UNI'\n",
    "\n",
    "subdirectories = ['/Geometry','/Magnitude','/Pression','/U001','/U002']\n",
    "\n",
    "geo_path =  general_path_data + subdirectories[0]\n",
    "v_path   =  general_path_data + subdirectories[1]\n",
    "p_path   =  general_path_data + subdirectories[2]\n",
    "vx_path  =  general_path_data + subdirectories[3]\n",
    "vy_path  =  general_path_data + subdirectories[4]"
   ]
  },
  {
   "cell_type": "code",
   "execution_count": 9,
   "metadata": {},
   "outputs": [],
   "source": [
    "#method for reading image    \n",
    "def get_img(img_name):\n",
    "    return ski.io.imread(img_name)\n",
    "\n",
    "def resizing_img(x,new_width=200):\n",
    "   \n",
    "    height=x.shape[0]\n",
    "    width=x.shape[1]\n",
    "    ratio = height / width\n",
    "    new_height = int(new_width * ratio)\n",
    "    y =cv.resize(x,(new_width,new_height))\n",
    "    return y\n",
    "\n",
    "# method for turning to a grey or binary image \n",
    "def processing(image,option):\n",
    "        x = get_img(image)  \n",
    "        x = rgb2gray(x)               # It returns a grayscale image with floating point values in the range from 0 to 1\n",
    "        y = resizing_img(x) # Reshape image \n",
    "    \n",
    "        # Binary option otherwise gray\n",
    "        if (option):\n",
    "            y=ski.util.img_as_ubyte(y)  # Convert it back to the original data type and the data range back 0 to 255. \n",
    "                                        # It is often better to use image values represented by floating point values \n",
    "            best_value_threshold=np.round(filters.threshold_otsu(y)) #  Otsu’s method calculates an “optimal” threshold\n",
    "\n",
    "            _,y= cv.threshold(y, best_value_threshold, 255, cv.THRESH_BINARY)\n",
    "            y=y/255.\n",
    "        y=y[:, :, np.newaxis]\n",
    "        return y\n",
    "\n",
    "def create_file(path,name='Images_masked'):\n",
    "     newpath = path +'/' +name\n",
    "     os.makedirs(newpath, exist_ok=True)\n",
    "     return newpath"
   ]
  },
  {
   "cell_type": "code",
   "execution_count": 10,
   "metadata": {},
   "outputs": [],
   "source": [
    "def create_npy(path_origin,name_sub_file,option,n_sample = 1000):\n",
    "    images = sorted([os.path.join(path_origin,fname) for fname in os.listdir(path_origin) if fname.endswith(\".png\")])\n",
    "    current_path = os.getcwd() \n",
    "    if (n_sample <= 20000):\n",
    "\n",
    "        I = images[1:n_sample+1]\n",
    "        newpath1=create_file(current_path)\n",
    "        new_root = newpath1 +'/' +name_sub_file\n",
    "        os.makedirs(new_root, exist_ok=True)\n",
    "   \n",
    "        for img in I:\n",
    "            name_img = os.path.splitext(os.path.basename(img))[0]\n",
    "            save_in=new_root+'/'+ name_img+'.npy'\n",
    "            print(save_in)\n",
    "            x=processing(img,option)\n",
    "            np.save(save_in,x)  "
   ]
  },
  {
   "cell_type": "code",
   "execution_count": 20,
   "metadata": {},
   "outputs": [],
   "source": [
    "def mask(path1,path2,save_in,new_npy):\n",
    "    path_1 = Path(path1)\n",
    "    file_npy_1=sorted(list(path_1.glob('*.npy')))\n",
    "    \n",
    "    path_2 = Path(path2)\n",
    "    file_npy_2=sorted(list(path_2.glob('*.npy')))\n",
    "    n=1\n",
    "    for f1, f2 in zip(file_npy_1,file_npy_2):\n",
    "            new_save_in=save_in+ '/'+new_npy+f'_{n:05d}.npy'\n",
    "            array_1 = np.load(f1)\n",
    "            array_2 = np.load(f2)\n",
    "            array_masked=array_1*array_2\n",
    "            np.save(new_save_in,array_masked)\n",
    "            print('*********',new_save_in)\n",
    "            n+=1\n",
    "           \n",
    "    "
   ]
  },
  {
   "cell_type": "code",
   "execution_count": null,
   "metadata": {},
   "outputs": [],
   "source": [
    "def create_file_masked(file1,file2,name_npy,name):\n",
    "    path1 =  os.getcwd() \n",
    "    path2= create_file(path1,name)\n",
    "    print(path2)\n",
    "    mask(file1,file2,path2,name_npy)\n",
    "\n",
    "def split_data(file,n_train,n_valid,n_test):\n",
    "     n_sample=len(file)\n",
    "     if (round(n_train + n_valid + n_test,2) == 1.0):\n",
    "        n_train= math.floor(n_sample*n_train)\n",
    "        n_valid = math.floor(n_sample*n_valid) + n_train\n",
    "        n_test = math.floor(n_sample*n_test) + n_valid\n",
    "        (train,valid,test) = (file[0:n_train], file[n_train:n_valid],file[n_valid:n_test]) \n",
    "     return train,valid,test  \n",
    "\n",
    "# separating images into different folders\n",
    "def create_files(name_file): \n",
    "    \n",
    "   # name_file = geo_masked mag_masked  vx_masked vy_masked p_masked\n",
    "   # path = /home/ppgi/Trabajo/Codigos_generate_data/DLCODES-VER-5/mag_masked\n",
    "    \n",
    "    path=general_directory + name_file\n",
    "    file = Path(path)\n",
    "    \n",
    "    images= sorted(file.glob('*.png')) \n",
    "    train,valid,test =  split_data(images)\n",
    "    \n",
    "    path_train = general_directory +name_file+ '/train'\n",
    "    path_test = general_directory + name_file+'/test'\n",
    "    path_valid = general_directory +name_file+ '/valid'\n",
    "    print('creating')\n",
    "    os.makedirs(path_train, exist_ok=True)\n",
    "    os.makedirs(path_test, exist_ok=True)\n",
    "    os.makedirs(path_valid, exist_ok=True)\n",
    "    \n",
    "    for img in train:\n",
    "        p =  path_train + '/' + img.name\n",
    "        shutil.move(img,p)\n",
    "    \n",
    "    for img in valid:  \n",
    "        p = path_valid + '/' + img.name\n",
    "        shutil.move(img,p)\n",
    "\n",
    "    for img in test: \n",
    "        p = path_test + '/' + img.name\n",
    "        shutil.move(img,p)    \n",
    "    "
   ]
  },
  {
   "cell_type": "code",
   "execution_count": 9,
   "metadata": {},
   "outputs": [
    {
     "name": "stdout",
     "output_type": "stream",
     "text": [
      "/home/guiomar/Desktop/CODES/predicting-flow-patterns/Images_masked/geo/geo_00001.npy\n",
      "/home/guiomar/Desktop/CODES/predicting-flow-patterns/Images_masked/geo/geo_00002.npy\n",
      "/home/guiomar/Desktop/CODES/predicting-flow-patterns/Images_masked/geo/geo_00003.npy\n",
      "/home/guiomar/Desktop/CODES/predicting-flow-patterns/Images_masked/geo/geo_00004.npy\n",
      "/home/guiomar/Desktop/CODES/predicting-flow-patterns/Images_masked/geo/geo_00005.npy\n"
     ]
    }
   ],
   "source": [
    "create_npy(geo_path,'geo',True,n_sample = 5)"
   ]
  },
  {
   "cell_type": "code",
   "execution_count": 10,
   "metadata": {},
   "outputs": [
    {
     "name": "stdout",
     "output_type": "stream",
     "text": [
      "/home/guiomar/Desktop/CODES/predicting-flow-patterns/Images_masked/P/p_00001.npy\n",
      "/home/guiomar/Desktop/CODES/predicting-flow-patterns/Images_masked/P/p_00002.npy\n",
      "/home/guiomar/Desktop/CODES/predicting-flow-patterns/Images_masked/P/p_00003.npy\n",
      "/home/guiomar/Desktop/CODES/predicting-flow-patterns/Images_masked/P/p_00004.npy\n",
      "/home/guiomar/Desktop/CODES/predicting-flow-patterns/Images_masked/P/p_00005.npy\n"
     ]
    }
   ],
   "source": [
    "create_npy(p_path ,'P',False,n_sample = 5)"
   ]
  },
  {
   "cell_type": "code",
   "execution_count": 13,
   "metadata": {},
   "outputs": [],
   "source": [
    "file1='/home/guiomar/Desktop/CODES/predicting-flow-patterns/Images_masked/geo'\n",
    "file2='/home/guiomar/Desktop/CODES/predicting-flow-patterns/Images_masked/P'"
   ]
  },
  {
   "cell_type": "code",
   "execution_count": 22,
   "metadata": {},
   "outputs": [
    {
     "name": "stdout",
     "output_type": "stream",
     "text": [
      "/home/guiomar/Desktop/CODES/predicting-flow-patterns/Final_mask\n",
      "********* /home/guiomar/Desktop/CODES/predicting-flow-patterns/Final_mask/p_00001.npy\n",
      "********* /home/guiomar/Desktop/CODES/predicting-flow-patterns/Final_mask/p_00002.npy\n",
      "********* /home/guiomar/Desktop/CODES/predicting-flow-patterns/Final_mask/p_00003.npy\n",
      "********* /home/guiomar/Desktop/CODES/predicting-flow-patterns/Final_mask/p_00004.npy\n",
      "********* /home/guiomar/Desktop/CODES/predicting-flow-patterns/Final_mask/p_00005.npy\n"
     ]
    }
   ],
   "source": [
    "create_file_masked(file1,file2,'p')"
   ]
  },
  {
   "cell_type": "code",
   "execution_count": 34,
   "metadata": {},
   "outputs": [],
   "source": [
    "x = np.load('/home/guiomar/Desktop/CODES/predicting-flow-patterns/Final_mask/p_00004.npy')"
   ]
  },
  {
   "cell_type": "code",
   "execution_count": 35,
   "metadata": {},
   "outputs": [
    {
     "data": {
      "text/plain": [
       "<matplotlib.image.AxesImage at 0x70796e53c110>"
      ]
     },
     "execution_count": 35,
     "metadata": {},
     "output_type": "execute_result"
    },
    {
     "data": {
      "image/png": "[encoded data removed]",
      "text/plain": [
       "<Figure size 640x480 with 1 Axes>"
      ]
     },
     "metadata": {},
     "output_type": "display_data"
    }
   ],
   "source": [
    "plt.imshow(x,cmap='gray')"
   ]
  },
  {
   "cell_type": "code",
   "execution_count": null,
   "metadata": {},
   "outputs": [],
   "source": [
    "def create_files(name,general_file_name, create_one_file=None):\n",
    "    list_files_arrays = ['Geometry','Magnitude','Pression','Vx','Vy']\n",
    "    current_path = os.getcwd()\n",
    "    file_finded = [name for name in os.listdir( current_path) if os.path.isdir(os.path.join( current_path, name))]\n",
    "    if create_one_file != None:\n",
    "       name_path = name_file[0] + '/' + name\n",
    "\n",
    "\n",
    "file = [name for name in os.listdir(path) if os.path.isdir(os.path.join(path, name))]\n",
    "name_file=[name for name in file if name == general_file_name]\n",
    "name_path = name_file[0] + '/' + name\n",
    "f = Path(name_path)\n",
    "arrays= sorted(file.glob('*.npy'))\n",
    "train,valid,test =  split_data(arrays)\n",
    "    \n",
    "     \n",
    "   \n",
    "    \n",
    "    path_train = general_directory +name_file+ '/train'\n",
    "    path_test = general_directory + name_file+'/test'\n",
    "    path_valid = general_directory +name_file+ '/valid'\n",
    "    print('creating')\n",
    "    os.makedirs(path_train, exist_ok=True)\n",
    "    os.makedirs(path_test, exist_ok=True)\n",
    "    os.makedirs(path_valid, exist_ok=True)\n",
    "    \n",
    "    for img in train:\n",
    "        p =  path_train + '/' + img.name\n",
    "        shutil.move(img,p)\n",
    "    \n",
    "    for img in valid:  \n",
    "        p = path_valid + '/' + img.name\n",
    "        shutil.move(img,p)\n",
    "\n",
    "    for img in test: \n",
    "        p = path_test + '/' + img.name\n",
    "        shutil.move(img,p)    "
   ]
  }
 ],
 "metadata": {
  "kernelspec": {
   "display_name": "Python 3",
   "language": "python",
   "name": "python3"
  },
  "language_info": {
   "codemirror_mode": {
    "name": "ipython",
    "version": 3
   },
   "file_extension": ".py",
   "mimetype": "text/x-python",
   "name": "python",
   "nbconvert_exporter": "python",
   "pygments_lexer": "ipython3",
   "version": "3.13.3"
  }
 },
 "nbformat": 4,
 "nbformat_minor": 2
}
