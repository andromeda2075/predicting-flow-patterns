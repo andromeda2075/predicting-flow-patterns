{
 "cells": [
  {
   "cell_type": "code",
   "execution_count": 9,
   "id": "0b72c520-5cc4-49a0-ba9f-3407c1309125",
   "metadata": {},
   "outputs": [],
   "source": [
    "import keras\n",
    "import datetime\n",
    "import tensorflow                       as tf\n",
    "from tensorflow.keras.callbacks         import TensorBoard\n",
    "from tensorflow.keras.layers            import Input, Lambda, Conv2D,Dropout,MaxPooling2D,Conv2DTranspose,concatenate,BatchNormalization, Activation,ZeroPadding2D\n",
    "from tensorflow.keras.models            import Model\n",
    "from tensorflow.keras.optimizers        import Adam\n",
    "from keras.utils                        import plot_model\n",
    "from tensorflow.keras                   import layers, models\n",
    "from tensorflow.keras.losses            import mae\n",
    "import sys\n",
    "import os\n",
    "import numpy as np\n",
    "import math\n",
    "import random, time\n",
    "\n",
    "import skimage                      as ski\n",
    "from   skimage.filters              import threshold_otsu\n",
    "from   skimage                      import io, color\n",
    "from   skimage.color                import rgb2gray\n",
    "from   skimage                      import filters\n",
    "import cv2                          as cv\n",
    "import matplotlib.pyplot            as plt\n"
   ]
  },
  {
   "cell_type": "code",
   "execution_count": 10,
   "id": "e087db32-9049-4ae1-a5c5-2184d24af308",
   "metadata": {},
   "outputs": [],
   "source": [
    "# Files path\n",
    "#directory= os.path.abspath(\"/home/guiomar/Desktop/CODES/DLCODES\")\n",
    "directory= os.path.abspath(\"/home/ppgi/Trabajo/Codigos_generate_data/DLCODES-VER-5\")\n",
    "# Add directory to sys.path\n",
    "sys.path.append(directory)\n",
    "\n",
    "# import script where hiperparameters are defined\n",
    "import param  \n",
    "\n",
    "# Set the number of cores\n",
    "os.environ[\"TF_CPP_MIN_LOG_LEVEL\"] = \"2\"\n",
    "num_threads = param.n_threads  \n",
    "tf.config.threading.set_intra_op_parallelism_threads(num_threads)"
   ]
  },
  {
   "cell_type": "code",
   "execution_count": 11,
   "id": "1d842af4-3598-47dc-bdfc-2a3e27cf932e",
   "metadata": {},
   "outputs": [
    {
     "name": "stdout",
     "output_type": "stream",
     "text": [
      "0 => /home/ppgi/Trabajo/Codigos_generate_data/DLCODES-VER-5/Geometry\n",
      "1 => /home/ppgi/Trabajo/Codigos_generate_data/DLCODES-VER-5/Magnitude\n",
      "2 => /home/ppgi/Trabajo/Codigos_generate_data/DLCODES-VER-5/Pression\n",
      "3 => /home/ppgi/Trabajo/Codigos_generate_data/DLCODES-VER-5/U001\n",
      "4 => /home/ppgi/Trabajo/Codigos_generate_data/DLCODES-VER-5/U002\n",
      "\n",
      "Train = 0.7,Test = 0.2, Valid = 0.1\n",
      "\n",
      "Dimensions resized h = 128, w = 256\n",
      "\n",
      "Pack into 10 images\n"
     ]
    }
   ],
   "source": [
    "#Load the main directory\n",
    "paths=param.list_paths \n",
    "for i,j in enumerate(paths):\n",
    "    print(f'{i} => {j}')\n",
    "    \n",
    "# Defining amount of train,valid,test images   \n",
    "n_train=param.n_train;    n_valid=param.n_valid;    n_test=param.n_test\n",
    "\n",
    "# Defining a sample i.e.\n",
    "n_sample=param.n_sample\n",
    "\n",
    "#Pack them into batches (we’ll use batches of 10 images e.g.)\n",
    "BATCH_SIZE=param.pack_size  \n",
    "\n",
    "# For resizing dimentions everything\n",
    "\n",
    "h=param.img_height\n",
    "w=param.img_width\n",
    "\n",
    "print(f'\\nTrain = {n_train},Test = {n_test}, Valid = {n_valid}\\n')\n",
    "print(f'Dimensions resized h = {h}, w = {w}\\n')\n",
    "print(f'Pack into {BATCH_SIZE} images')"
   ]
  },
  {
   "cell_type": "code",
   "execution_count": 12,
   "id": "b521caf9-b058-4be8-9a99-ae1ba0734893",
   "metadata": {},
   "outputs": [],
   "source": [
    "# method for reading image    \n",
    "def get_img(img_name):\n",
    "    return ski.io.imread(img_name)\n",
    " \n",
    "# method for turning to a grey or binary image \n",
    "def processing(image,option=True):\n",
    "        x = get_img(image)  \n",
    "        x = rgb2gray(x)       # It returns a grayscale image with floating point values in the range from 0 to 1\n",
    "        x =cv.resize(x,(w,h)) # Reshape image \n",
    "    \n",
    "        # Binary option otherwise gray\n",
    "        if (option):\n",
    "            x=ski.util.img_as_ubyte(x)  # Convert it back to the original data type and the data range back 0 to 255. \n",
    "                                        # It is often better to use image values represented by floating point values \n",
    "            best_value_threshold=np.round(filters.threshold_otsu(x)) #  Otsu’s method calculates an “optimal” threshold\n",
    "            #_,x= cv.threshold(x, best_value_threshold, 255, cv.THRESH_BINARY_INV)\n",
    "            _,x= cv.threshold(x, best_value_threshold, 255, cv.THRESH_BINARY)\n",
    "            x=x/255.\n",
    "\n",
    "        x=x[:, :, np.newaxis]\n",
    "        return x\n",
    "    \n",
    "# method for splitting data\n",
    "def split_data(path,n_sample,n_train,n_valid,n_test):\n",
    "        \n",
    "        files=sorted([os.path.join(path, fname) for fname in os.listdir(path) if fname.endswith(\".png\")])\n",
    "        n_files=len(files)\n",
    "        \n",
    "        if(n_files>n_sample):\n",
    "                print('Loaded ',n_sample,'/',n_files,'**** from ',path,'\\n')\n",
    "                if (n_train + n_valid + n_test == 1.0):\n",
    "        \n",
    "                    n_train= math.floor(n_sample*n_train)\n",
    "                    n_valid = math.floor(n_sample*n_valid) + n_train\n",
    "                    n_test = math.floor(n_sample*n_test) + n_valid\n",
    "              \n",
    "                    (files_train,files_valid,files_tests) = (files[0:n_train], files[n_train:n_valid],files[n_valid:n_test])\n",
    "                    \n",
    "                return files_train,files_valid,files_tests\n",
    "\n",
    "def arrays_img_processed(data,type=True): # True for Geometry \n",
    "    # begin in data[1:] \n",
    "    if type:\n",
    "        list_arrays=[processing(image,option=True).astype(np.float32) for image in data[1:] ]\n",
    "    else:\n",
    "        list_arrays=[processing(image,option=False).astype(np.float32) for image in data[1:] ]\n",
    "   \n",
    "    return np.array(list_arrays) "
   ]
  },
  {
   "cell_type": "code",
   "execution_count": 13,
   "id": "880c7c73-63b4-41dc-b497-83ba1cbe6497",
   "metadata": {},
   "outputs": [
    {
     "name": "stdout",
     "output_type": "stream",
     "text": [
      "Loaded  150 / 20001 **** from  /home/ppgi/Trabajo/Codigos_generate_data/DLCODES-VER-5/Geometry \n",
      "\n",
      "Loaded  150 / 20001 **** from  /home/ppgi/Trabajo/Codigos_generate_data/DLCODES-VER-5/Magnitude \n",
      "\n",
      "Training data for geometry: (104, 128, 256, 1)\n",
      "Training data for magnitude: (104, 128, 256, 1)\n",
      "\n",
      "Valid data for geometry: (14, 128, 256, 1)\n",
      "Valid data for magnitude: (14, 128, 256, 1)\n",
      "\n",
      "Test data for geometry: (29, 128, 256, 1)\n",
      "Test data for magnitude: (29, 128, 256, 1)\n",
      "\n",
      "geo[3][100][200] = [1.]\n",
      "mag[3][100][200] = [0.16917804]\n"
     ]
    }
   ],
   "source": [
    "# Geometry\n",
    "geo_train,geo_valid,geo_tests=split_data(paths[0],n_sample,n_train,n_valid,n_test)\n",
    "\n",
    "geo_array_train=arrays_img_processed(geo_train)\n",
    "geo_array_valid=arrays_img_processed(geo_valid)\n",
    "geo_array_tests=arrays_img_processed(geo_tests)\n",
    "\n",
    "# Magnitude\n",
    "specific_tarjet=paths[1]\n",
    "mag_train,mag_valid,mag_tests=split_data(specific_tarjet,n_sample,n_train,n_valid,n_test)\n",
    "\n",
    "mag_array_train=arrays_img_processed(mag_train,False)\n",
    "mag_array_valid=arrays_img_processed(mag_valid,False)\n",
    "mag_array_tests=arrays_img_processed(mag_tests,False)\n",
    "\n",
    "print(f'Training data for geometry: {geo_array_train.shape}')\n",
    "print(f'Training data for magnitude: {mag_array_train.shape}\\n')\n",
    "print(f'Valid data for geometry: {geo_array_valid.shape}')\n",
    "print(f'Valid data for magnitude: {mag_array_valid.shape}\\n')\n",
    "print(f'Test data for geometry: {geo_array_tests.shape}')\n",
    "print(f'Test data for magnitude: {mag_array_tests.shape}\\n')\n",
    "\n",
    "print(f'geo[3][100][200] = {geo_array_train[3][100][200]}')\n",
    "print(f'mag[3][100][200] = {mag_array_train[3][100][200]}')"
   ]
  },
  {
   "cell_type": "code",
   "execution_count": 14,
   "id": "a42403b3-1d41-4ece-bbed-693938b10686",
   "metadata": {},
   "outputs": [],
   "source": [
    "def plot(a1,a2,title=None,opt=None):\n",
    "    if opt==None:\n",
    "        fig, (ax1,ax2) = plt.subplots(1, 2, figsize=(16, 5), sharey=True)\n",
    "        ax1.set_xticks([]); ax1.set_yticks([]);\n",
    "        ax2.set_xticks([]); ax2.set_yticks([]);\n",
    "        ax1.imshow(a1,origin='upper',cmap='gray')\n",
    "        ax1.set_title('Input',fontsize=14)\n",
    "        #ax1.set_xlabel('Geometry')\n",
    "        ax1.set_ylabel('Geometry',fontsize=14)\n",
    "        ax2.imshow(a2,origin='upper',cmap='gray')\n",
    "        ax2.set_title('Target output',fontsize=14)\n",
    "        #ax2.set_xlabel('u')\n",
    "        ax2.set_ylabel('u',fontsize=16)\n",
    "        if title is not None: fig.suptitle(title)\n",
    "    else:\n",
    "        fig, (ax1,ax2) = plt.subplots(1, 2, figsize=(16, 5), sharey=True)\n",
    "        ax1.set_xticks([]); ax1.set_yticks([]);\n",
    "        ax2.set_xticks([]); ax2.set_yticks([]);\n",
    "        ax1.imshow(a1,origin='upper',cmap='gray')\n",
    "        ax1.set_title('Real',fontsize=14)\n",
    "        #ax1.set_xlabel('Geometry')\n",
    "        ax1.set_ylabel('u',fontsize=14)\n",
    "        ax2.imshow(a2,origin='upper',cmap='gray')\n",
    "        ax2.set_title('Prediction',fontsize=14)\n",
    "        #ax2.set_xlabel('u')\n",
    "        ax2.set_ylabel('u',fontsize=16)\n",
    "        if title is not None: fig.suptitle(title)"
   ]
  },
  {
   "cell_type": "code",
   "execution_count": 15,
   "id": "df0b637c-2870-4352-873b-f104116fa63f",
   "metadata": {},
   "outputs": [
    {
     "data": {
      "image/png": "[encoded data removed]",
      "text/plain": [
       "<Figure size 1600x500 with 2 Axes>"
      ]
     },
     "metadata": {},
     "output_type": "display_data"
    }
   ],
   "source": [
    "NUM=random.sample(range(1, geo_array_train.shape[0]), 1)\n",
    "plot( geo_array_train[NUM[0]],mag_array_train[NUM[0]], title=f\"Training data sample N°{NUM[0]}\") "
   ]
  },
  {
   "cell_type": "code",
   "execution_count": 17,
   "id": "30a3e6a9-5de0-451a-a775-6d1c575af465",
   "metadata": {},
   "outputs": [
    {
     "data": {
      "text/plain": [
       "(128, 256, 1)"
      ]
     },
     "execution_count": 17,
     "metadata": {},
     "output_type": "execute_result"
    }
   ],
   "source": [
    "geo_array_train.shape[1:]"
   ]
  },
  {
   "cell_type": "code",
   "execution_count": 18,
   "id": "862a8a5b-afea-4b8f-96eb-5d302a7fa5ea",
   "metadata": {},
   "outputs": [
    {
     "data": {
      "text/plain": [
       "\"\\n# 1 3x3 transpose convolution and concate conv4 on the depth dim\\nup6 = concatenate([ZeroPadding2D(((1,0),(1,0)))(Conv2DTranspose(256, (2, 2), strides=(2, 2), padding='same')(conv5)), conv4], axis=3)\\n\\n# 2 3x3 convolutions\\nconv6 = Conv2D(256, (3, 3), activation='relu', padding='same')(up6)\\nconv6 = Conv2D(256, (3, 3), activation='relu', padding='same')(conv6)\\n\\n# 1 3x3 transpose convolution and concate conv3 on the depth dim\\nup7 = concatenate([ZeroPadding2D(((1,0),(1,0)))(Conv2DTranspose(128, (2, 2), strides=(2, 2), padding='same')(conv6)), conv3], axis=3)\\n\\n# 2 3x3 convolutions\\nconv7 = Conv2D(128, (3, 3), activation='relu', padding='same')(up7)\\nconv7 = Conv2D(128, (3, 3), activation='relu', padding='same')(conv7)\\n\\n# 1 3x3 transpose convolution and concate conv3 on the depth dim\\nup8 = concatenate([ZeroPadding2D(((0,0),(1,0)))(Conv2DTranspose(64, (2, 2), strides=(2, 2), padding='same')(conv7)), conv2], axis=3)\\n\\n# 2 3x3 convolutions\\nconv8 = Conv2D(64, (3, 3), activation='relu', padding='same')(up8)\\nconv8 = Conv2D(64, (3, 3), activation='relu', padding='same')(conv8)\\n\\n# 1 3x3 transpose convolution and concate conv3 on the depth dim\\nup9 = concatenate([ZeroPadding2D(((0,0),(1,0)))(Conv2DTranspose(32, (2, 2), strides=(2, 2), padding='same')(conv8)), conv1], axis=3)\\n\\n# 2 3x3 convolutions\\nconv9 = Conv2D(32, (3, 3), activation='relu', padding='same')(up9)\\nconv9 = Conv2D(32, (3, 3), activation='relu', padding='same')(conv9)\\n\\n# final 1x1 convolutions to get to the correct depth dim (3 for 2 xy vel and 1 for pressure)\\nconv10 = Conv2D(3, (1, 1), activation='linear')(conv9)\\n\\n# construct model\\nmodel = Model(inputs=[inputs], outputs=[conv10])\\n\\n# compile the model with loss and optimizer\\nmodel.compile(loss=keras.losses.mean_squared_error,\\n              optimizer=keras.optimizers.Adam(lr=1e-4),\\n              loss=['MSE'],\\n              metrics=['MAE'])\\n\\n# train model\\nmodel.fit(geo_array_train, mag_array_train,\\n          batch_size=batch_size,\\n          epochs=epochs,\\n          verbose=1,\\n          validation_data=(geo_array_tests, mag_array_tests))\\n\""
      ]
     },
     "execution_count": 18,
     "metadata": {},
     "output_type": "execute_result"
    }
   ],
   "source": [
    "# construct model\n",
    "inputs = Input(geo_array_train.shape[1:])\n",
    "\n",
    "# 2 3x3 convolutions followed by a max pool\n",
    "conv1 = Conv2D(32, (3, 3), activation='relu', padding='same')(inputs)\n",
    "conv1 = Conv2D(32, (3, 3), activation='relu', padding='same')(conv1)\n",
    "pool1 = MaxPooling2D(pool_size=(2, 2))(conv1)\n",
    "\n",
    "# 2 3x3 convolutions followed by a max pool\n",
    "conv2 = Conv2D(64, (3, 3), activation='relu', padding='same')(pool1)\n",
    "conv2 = Conv2D(64, (3, 3), activation='relu', padding='same')(conv2)\n",
    "pool2 = MaxPooling2D(pool_size=(2, 2))(conv2)\n",
    "\n",
    "# 2 3x3 convolutions followed by a max pool\n",
    "conv3 = Conv2D(128, (3, 3), activation='relu', padding='same')(pool2)\n",
    "conv3 = Conv2D(128, (3, 3), activation='relu', padding='same')(conv3)\n",
    "pool3 = MaxPooling2D(pool_size=(2, 2))(conv3)\n",
    "\n",
    "# 2 3x3 convolutions followed by a max pool\n",
    "conv4 = Conv2D(256, (3, 3), activation='relu', padding='same')(pool3)\n",
    "conv4 = Conv2D(256, (3, 3), activation='relu', padding='same')(conv4)\n",
    "pool4 = MaxPooling2D(pool_size=(2, 2))(conv4)\n",
    "\n",
    "# 2 3x3 convolutions\n",
    "conv5 = Conv2D(512, (3, 3), activation='relu', padding='same')(pool4)\n",
    "conv5 = Conv2D(512, (3, 3), activation='relu', padding='same')(conv5)\n",
    "\n",
    "# 1 3x3 transpose convolution and concate conv4 on the depth dim\n",
    "up6 = concatenate([ZeroPadding2D(((1,0),(1,0)))(Conv2DTranspose(256, (2, 2), strides=(2, 2), padding='same')(conv5)), conv4], axis=3)\n",
    "\n",
    "\n",
    "\n",
    "\n",
    "# 2 3x3 convolutions\n",
    "conv6 = Conv2D(256, (3, 3), activation='relu', padding='same')(up6)\n",
    "conv6 = Conv2D(256, (3, 3), activation='relu', padding='same')(conv6)\n",
    "\n",
    "# 1 3x3 transpose convolution and concate conv3 on the depth dim\n",
    "up7 = concatenate([ZeroPadding2D(((1,0),(1,0)))(Conv2DTranspose(128, (2, 2), strides=(2, 2), padding='same')(conv6)), conv3], axis=3)\n",
    "\n",
    "# 2 3x3 convolutions\n",
    "conv7 = Conv2D(128, (3, 3), activation='relu', padding='same')(up7)\n",
    "conv7 = Conv2D(128, (3, 3), activation='relu', padding='same')(conv7)\n",
    "\n",
    "# 1 3x3 transpose convolution and concate conv3 on the depth dim\n",
    "up8 = concatenate([ZeroPadding2D(((0,0),(1,0)))(Conv2DTranspose(64, (2, 2), strides=(2, 2), padding='same')(conv7)), conv2], axis=3)\n",
    "\n",
    "# 2 3x3 convolutions\n",
    "conv8 = Conv2D(64, (3, 3), activation='relu', padding='same')(up8)\n",
    "conv8 = Conv2D(64, (3, 3), activation='relu', padding='same')(conv8)\n",
    "\n",
    "# 1 3x3 transpose convolution and concate conv3 on the depth dim\n",
    "up9 = concatenate([ZeroPadding2D(((0,0),(1,0)))(Conv2DTranspose(32, (2, 2), strides=(2, 2), padding='same')(conv8)), conv1], axis=3)\n",
    "\n",
    "# 2 3x3 convolutions\n",
    "conv9 = Conv2D(32, (3, 3), activation='relu', padding='same')(up9)\n",
    "conv9 = Conv2D(32, (3, 3), activation='relu', padding='same')(conv9)\n",
    "\n",
    "# final 1x1 convolutions to get to the correct depth dim (3 for 2 xy vel and 1 for pressure)\n",
    "conv10 = Conv2D(3, (1, 1), activation='linear')(conv9)\n",
    "\n",
    "# construct model\n",
    "model = Model(inputs=[inputs], outputs=[conv10])\n",
    "\n",
    "# compile the model with loss and optimizer\n",
    "model.compile(loss=keras.losses.mean_squared_error,\n",
    "              optimizer=keras.optimizers.Adam(lr=1e-4),\n",
    "              loss=['MSE'],\n",
    "              metrics=['MAE'])\n",
    "\n",
    "# train model\n",
    "model.fit(geo_array_train, mag_array_train,\n",
    "          batch_size=batch_size,\n",
    "          epochs=epochs,\n",
    "          verbose=1,\n",
    "          validation_data=(geo_array_tests, mag_array_tests))\n"
   ]
  },
  {
   "cell_type": "code",
   "execution_count": null,
   "id": "60ce77a9-14b3-447d-a0d3-35b7f5fbb138",
   "metadata": {},
   "outputs": [],
   "source": [
    "# evaluate on test set\n",
    "score = model.evaluate(geo_array_tests, mag_array_tests, verbose=0)\n",
    "print('Average Mean Squared Error:', score[0])"
   ]
  },
  {
   "cell_type": "code",
   "execution_count": null,
   "id": "66987db4-b760-427e-9cf2-a09e704c0012",
   "metadata": {},
   "outputs": [],
   "source": [
    "# display predictions on test set\n",
    "predicted_steady_flow = model.predict(test_geometries, batch_size=batch_size)\n",
    "for i in xrange(predicted_steady_flow.shape[0]):\n",
    "  # plot predicted vs true flow\n",
    "  velocity_image = np.concatenate([predicted_steady_flow[i,:,:,0], test_steady_flows[i,:,:,0], test_geometries[i,:,:,0]/10.0], axis=1)\n",
    "  plt.imshow(velocity_image)\n",
    "  plt.show()\n",
    "  # plot predicted vs true pressure\n",
    "  velocity_image = np.concatenate([predicted_steady_flow[i,:,:,2], test_steady_flows[i,:,:,2], test_geometries[i,:,:,0]/10.0], axis=1)\n",
    "  plt.imshow(velocity_image)\n",
    "  plt.show()"
   ]
  },
  {
   "cell_type": "code",
   "execution_count": null,
   "id": "62b74319-3898-42b8-b632-5a83dac98c5b",
   "metadata": {},
   "outputs": [],
   "source": [
    "test_model = keras.models.load_model(\"//home/ppgi/Trabajo/Codigos_generate_data/DLCODES-VER-5/Result_01/Completed_Model.h5\")\n",
    "test_loss, test_acc = test_model.evaluate(geo_array_tests, mag_array_tests, verbose=0)\n",
    "print(f\"Test accuracy: {test_acc:.3f}\")"
   ]
  },
  {
   "cell_type": "code",
   "execution_count": 1,
   "id": "8af405fc-6a03-4733-861b-952416bd6c43",
   "metadata": {},
   "outputs": [
    {
     "name": "stderr",
     "output_type": "stream",
     "text": [
      "2025-04-24 11:35:57.228504: E external/local_xla/xla/stream_executor/cuda/cuda_fft.cc:467] Unable to register cuFFT factory: Attempting to register factory for plugin cuFFT when one has already been registered\n",
      "WARNING: All log messages before absl::InitializeLog() is called are written to STDERR\n",
      "E0000 00:00:1745508957.241203    4944 cuda_dnn.cc:8579] Unable to register cuDNN factory: Attempting to register factory for plugin cuDNN when one has already been registered\n",
      "E0000 00:00:1745508957.245068    4944 cuda_blas.cc:1407] Unable to register cuBLAS factory: Attempting to register factory for plugin cuBLAS when one has already been registered\n",
      "W0000 00:00:1745508957.254496    4944 computation_placer.cc:177] computation placer already registered. Please check linkage and avoid linking the same target more than once.\n",
      "W0000 00:00:1745508957.254508    4944 computation_placer.cc:177] computation placer already registered. Please check linkage and avoid linking the same target more than once.\n",
      "W0000 00:00:1745508957.254510    4944 computation_placer.cc:177] computation placer already registered. Please check linkage and avoid linking the same target more than once.\n",
      "W0000 00:00:1745508957.254510    4944 computation_placer.cc:177] computation placer already registered. Please check linkage and avoid linking the same target more than once.\n",
      "2025-04-24 11:35:57.257817: I tensorflow/core/platform/cpu_feature_guard.cc:210] This TensorFlow binary is optimized to use available CPU instructions in performance-critical operations.\n",
      "To enable the following instructions: AVX2 FMA, in other operations, rebuild TensorFlow with the appropriate compiler flags.\n"
     ]
    },
    {
     "name": "stdout",
     "output_type": "stream",
     "text": [
      "GPUs disponibles: []\n",
      "❌ No se detectó GPU.\n"
     ]
    },
    {
     "name": "stderr",
     "output_type": "stream",
     "text": [
      "W0000 00:00:1745508959.042381    4944 gpu_device.cc:2341] Cannot dlopen some GPU libraries. Please make sure the missing libraries mentioned above are installed properly if you would like to use GPU. Follow the guide at https://www.tensorflow.org/install/gpu for how to download and setup the required libraries for your platform.\n",
      "Skipping registering GPU devices...\n"
     ]
    }
   ],
   "source": [
    "import tensorflow as tf\n",
    "\n",
    "gpus = tf.config.list_physical_devices('GPU')\n",
    "print(\"GPUs disponibles:\", gpus)\n",
    "\n",
    "# Verifica si TensorFlow puede usarlas\n",
    "if gpus:\n",
    "    try:\n",
    "        # Habilita el crecimiento de memoria (opcional)\n",
    "        for gpu in gpus:\n",
    "            tf.config.experimental.set_memory_growth(gpu, True)\n",
    "        print(\"✅ GPU habilitada para uso.\")\n",
    "    except RuntimeError as e:\n",
    "        print(\"Error al configurar la GPU:\", e)\n",
    "else:\n",
    "    print(\"❌ No se detectó GPU.\")\n"
   ]
  },
  {
   "cell_type": "code",
   "execution_count": null,
   "id": "a2fb5102-2c16-4d7e-9d8d-ec9435c18b21",
   "metadata": {},
   "outputs": [],
   "source": []
  }
 ],
 "metadata": {
  "kernelspec": {
   "display_name": "Python 3 (ipykernel)",
   "language": "python",
   "name": "python3"
  },
  "language_info": {
   "codemirror_mode": {
    "name": "ipython",
    "version": 3
   },
   "file_extension": ".py",
   "mimetype": "text/x-python",
   "name": "python",
   "nbconvert_exporter": "python",
   "pygments_lexer": "ipython3",
   "version": "3.9.18"
  }
 },
 "nbformat": 4,
 "nbformat_minor": 5
}
