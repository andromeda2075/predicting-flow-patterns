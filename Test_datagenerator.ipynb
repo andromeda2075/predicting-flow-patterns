{
 "cells": [
  {
   "cell_type": "code",
   "execution_count": 1,
   "id": "3c3c904e-0af5-4c06-8ae9-00e0bf58cea8",
   "metadata": {},
   "outputs": [
    {
     "name": "stderr",
     "output_type": "stream",
     "text": [
      "2025-05-07 11:15:18.209796: E external/local_xla/xla/stream_executor/cuda/cuda_fft.cc:467] Unable to register cuFFT factory: Attempting to register factory for plugin cuFFT when one has already been registered\n",
      "WARNING: All log messages before absl::InitializeLog() is called are written to STDERR\n",
      "E0000 00:00:1746630918.286934    5601 cuda_dnn.cc:8579] Unable to register cuDNN factory: Attempting to register factory for plugin cuDNN when one has already been registered\n",
      "E0000 00:00:1746630918.310199    5601 cuda_blas.cc:1407] Unable to register cuBLAS factory: Attempting to register factory for plugin cuBLAS when one has already been registered\n",
      "W0000 00:00:1746630918.469114    5601 computation_placer.cc:177] computation placer already registered. Please check linkage and avoid linking the same target more than once.\n",
      "W0000 00:00:1746630918.469130    5601 computation_placer.cc:177] computation placer already registered. Please check linkage and avoid linking the same target more than once.\n",
      "W0000 00:00:1746630918.469131    5601 computation_placer.cc:177] computation placer already registered. Please check linkage and avoid linking the same target more than once.\n",
      "W0000 00:00:1746630918.469132    5601 computation_placer.cc:177] computation placer already registered. Please check linkage and avoid linking the same target more than once.\n",
      "2025-05-07 11:15:18.482637: I tensorflow/core/platform/cpu_feature_guard.cc:210] This TensorFlow binary is optimized to use available CPU instructions in performance-critical operations.\n",
      "To enable the following instructions: AVX2 FMA, in other operations, rebuild TensorFlow with the appropriate compiler flags.\n"
     ]
    }
   ],
   "source": [
    "import keras\n",
    "import datetime\n",
    "import tensorflow                       as tf\n",
    "from tensorflow.keras.callbacks         import TensorBoard\n",
    "from tensorflow.keras.layers            import Input, Lambda, Conv2D,Dropout,MaxPooling2D,Conv2DTranspose,concatenate,BatchNormalization, Activation\n",
    "from tensorflow.keras.models            import Model\n",
    "from tensorflow.keras.optimizers        import Adam\n",
    "from keras.utils                        import plot_model\n",
    "from tensorflow.keras                   import layers, models\n",
    "from tensorflow.keras.losses            import mae\n",
    "import sys\n",
    "import os\n",
    "import numpy as np\n",
    "import math\n",
    "import random, time\n",
    "from pathlib                        import Path\n",
    "from PIL                            import Image\n",
    "\n",
    "import skimage                      as ski\n",
    "from   skimage.filters              import threshold_otsu\n",
    "from   skimage                      import io, color\n",
    "from   skimage.color                import rgb2gray\n",
    "from   skimage                      import filters\n",
    "import cv2                          as cv\n",
    "import matplotlib.pyplot            as plt \n",
    "import gc\n",
    "import glob\n",
    "from skimage                        import img_as_ubyte\n",
    "from skimage                        import io\n",
    "import shutil"
   ]
  },
  {
   "cell_type": "code",
   "execution_count": 2,
   "id": "2d0a4b1d-070d-4bfa-9383-037b567bfd22",
   "metadata": {},
   "outputs": [],
   "source": [
    "general_directory ='/home/ppgi/Trabajo/Codigos_generate_data/DLCODES-VER-5'\n",
    "#general_directory = '/home/guiomar/Desktop/CODES/DLCODES-VER-5'\n",
    "#general_directory ='/home/guiomar/Desktop/CODES/Generation_Data/Proyecto_UNI'\n",
    "\n",
    "subdirectories = ['/Geometry','/Magnitude','/Pression','/U001','/U002']\n",
    "geo_path = general_directory + subdirectories[0]\n",
    "v_path =  general_directory + subdirectories[1]\n",
    "p_path =  general_directory + subdirectories[2]\n",
    "vx_path = general_directory + subdirectories[3]\n",
    "vy_path = general_directory + subdirectories[4]"
   ]
  },
  {
   "cell_type": "code",
   "execution_count": 3,
   "id": "bc81cbe9-0e86-41d8-8dcc-769740822efa",
   "metadata": {},
   "outputs": [],
   "source": [
    "# split dataset \n",
    "n_train = 0.7\n",
    "n_valid = 0.2\n",
    "n_test =  0.1\n",
    "w,h=256,128"
   ]
  },
  {
   "cell_type": "code",
   "execution_count": 4,
   "id": "6b32cbae-4a5a-43f2-bf64-9e9b77082e36",
   "metadata": {},
   "outputs": [],
   "source": [
    "#method for reading image    \n",
    "def get_img(img_name):\n",
    "    return ski.io.imread(img_name)\n",
    "\n",
    "# method for turning to a grey or binary image \n",
    "def processing(image,option=True):\n",
    "        x = get_img(image)  \n",
    "        x = rgb2gray(x)       # It returns a grayscale image with floating point values in the range from 0 to 1\n",
    "        x =cv.resize(x,(w,h)) # Reshape image \n",
    "    \n",
    "        # Binary option otherwise gray\n",
    "        if (option):\n",
    "            x=ski.util.img_as_ubyte(x)  # Convert it back to the original data type and the data range back 0 to 255. \n",
    "                                        # It is often better to use image values represented by floating point values \n",
    "            best_value_threshold=np.round(filters.threshold_otsu(x)) #  Otsu’s method calculates an “optimal” threshold\n",
    "\n",
    "            _,x= cv.threshold(x, best_value_threshold, 255, cv.THRESH_BINARY)\n",
    "            x=x/255.\n",
    "        x=x[:, :, np.newaxis]\n",
    "        return x"
   ]
  },
  {
   "cell_type": "code",
   "execution_count": 5,
   "id": "c0d82c75-aaf3-4849-b7f3-75e88fa23e53",
   "metadata": {},
   "outputs": [],
   "source": [
    "# method for creating npy of each image\n",
    "def npy_create (path,name,option=True):\n",
    "    images= sorted([os.path.join(path,fname) for fname in os.listdir(path) if fname.endswith(\".png\")])\n",
    "    name_file = name\n",
    "    new_file= general_directory + '/' + name_file\n",
    "    os.makedirs(new_file, exist_ok=True)\n",
    "    for img in images[1:]:\n",
    "        name_img = os.path.basename(img)\n",
    "        path=new_file+'/'+ name_img\n",
    "        x=processing(img,option)\n",
    "        np.save(path,x)  "
   ]
  },
  {
   "cell_type": "code",
   "execution_count": 6,
   "id": "cc085046-13b7-4d34-925a-290ed6eebdf4",
   "metadata": {},
   "outputs": [],
   "source": [
    "# Mask each image\n",
    "def mask (name_file,name_data,path_file_1,path_file_2=None):\n",
    "    print('enter')\n",
    "    if path_file_2 == None:\n",
    "        path_1 = Path(path_file_1)\n",
    "        file_npy_1=sorted(list(path_1.glob('*.npy')))\n",
    "        current_directory = Path.cwd()\n",
    "        save_in = str(current_directory) + '/' + name_file \n",
    "        os.makedirs(save_in, exist_ok=True)\n",
    "        n = 1\n",
    "        for f1 in file_npy_1:\n",
    "            array_1 = np.load(f1)\n",
    "            save= save_in+ '/'+name_data+f'_{n:05d}.png'\n",
    "            array_2d = img_as_ubyte(array_1.squeeze())\n",
    "            io.imsave(save, array_2d)\n",
    "            n=n+1\n",
    "    else:\n",
    "        path_1 = Path(path_file_1)\n",
    "        path_2 = Path(path_file_2)\n",
    "        file_npy_1=sorted(list(path_1.glob('*.npy')))\n",
    "        file_npy_2=sorted(list(path_2.glob('*.npy')))\n",
    "        current_directory = Path.cwd()\n",
    "        save_in = str(current_directory) + '/' + name_file \n",
    "        os.makedirs(save_in, exist_ok=True)\n",
    "        n = 1 \n",
    "        for f1, f2 in zip(file_npy_1,file_npy_2):\n",
    "            array_1 = np.load(f1)\n",
    "            array_2 = np.load(f2)\n",
    "            array_masked=array_1*array_2\n",
    "            save= save_in+ '/'+name_data+f'_{n:05d}.png'\n",
    "            array_2d = img_as_ubyte(array_masked.squeeze())\n",
    "            io.imsave(save, array_2d)\n",
    "            n=n+1"
   ]
  },
  {
   "cell_type": "code",
   "execution_count": 7,
   "id": "732d6d87-80a9-4f3f-8136-62e2f38964d2",
   "metadata": {},
   "outputs": [],
   "source": [
    "def split_data(file,n_train=n_train,n_valid=n_valid,n_test=n_test):\n",
    "     n_sample=len(file)\n",
    "     if (round(n_train + n_valid + n_test,2) == 1.0):\n",
    "        n_train= math.floor(n_sample*n_train)\n",
    "        n_valid = math.floor(n_sample*n_valid) + n_train\n",
    "        n_test = math.floor(n_sample*n_test) + n_valid\n",
    "        (train,valid,test) = (file[0:n_train], file[n_train:n_valid],file[n_valid:n_test]) \n",
    "     return train,valid,test\n",
    "    \n",
    "# separating images into different folders\n",
    "def create_files(name_file): \n",
    "    \n",
    "   # name_file = geo_masked mag_masked  vx_masked vy_masked p_masked\n",
    "   # path = /home/ppgi/Trabajo/Codigos_generate_data/DLCODES-VER-5/mag_masked\n",
    "    \n",
    "    path=general_directory + name_file\n",
    "    file = Path(path)\n",
    "    \n",
    "    images= sorted(file.glob('*.png')) \n",
    "    train,valid,test =  split_data(images)\n",
    "    \n",
    "    path_train = general_directory +name_file+ '/train'\n",
    "    path_test = general_directory + name_file+'/test'\n",
    "    path_valid = general_directory +name_file+ '/valid'\n",
    "    print('creating')\n",
    "    os.makedirs(path_train, exist_ok=True)\n",
    "    os.makedirs(path_test, exist_ok=True)\n",
    "    os.makedirs(path_valid, exist_ok=True)\n",
    "    \n",
    "    for img in train:\n",
    "        p =  path_train + '/' + img.name\n",
    "        shutil.move(img,p)\n",
    "    \n",
    "    for img in valid:  \n",
    "        p = path_valid + '/' + img.name\n",
    "        shutil.move(img,p)\n",
    "\n",
    "    for img in test: \n",
    "        p = path_test + '/' + img.name\n",
    "        shutil.move(img,p)\n",
    "    "
   ]
  },
  {
   "cell_type": "markdown",
   "id": "f990a9ed-ca61-47f0-9619-9bef2bf9263e",
   "metadata": {},
   "source": [
    "### Execution"
   ]
  },
  {
   "cell_type": "code",
   "execution_count": null,
   "id": "1f002b28-3a19-4957-b442-89cedbad59de",
   "metadata": {},
   "outputs": [],
   "source": [
    "# ***** 1 *******\n",
    "npy_create (geo_path,'geo_npy')\n",
    "npy_create (v_path,'v_npy',False)\n",
    "npy_create (p_path,'p_npy',False)\n",
    "npy_create (vx_path,'vx_npy',False)\n",
    "npy_create (vy_path,'vy_npy',False)\n"
   ]
  },
  {
   "cell_type": "code",
   "execution_count": null,
   "id": "23cd7c45-1b47-41a2-9fca-5c4b871b8135",
   "metadata": {},
   "outputs": [],
   "source": [
    "# ******** 2 *************\n",
    "path_file_1 = general_directory + '/geo_npy'\n",
    "path_file_2 = general_directory +'/v_npy'\n",
    "path_file_3 = general_directory +'/vx_npy'\n",
    "path_file_4 = general_directory +'/vy_npy'\n",
    "path_file_5 = general_directory +'/p_npy'\n",
    "\n",
    "\n",
    "#path_file_1='/home/guiomar/Desktop/CODES/Generation_Data/Proyecto_UNI/geo_npy'\n",
    "#path_file_2='/home/guiomar/Desktop/CODES/Generation_Data/Proyecto_UNI/v_npy'\n",
    "#path_file_3='/home/guiomar/Desktop/CODES/Generation_Data/Proyecto_UNI/vx_npy'\n",
    "#path_file_4='/home/guiomar/Desktop/CODES/Generation_Data/Proyecto_UNI/vy_npy'\n",
    "#path_file_5='/home/guiomar/Desktop/CODES/Generation_Data/Proyecto_UNI/p_npy'\n",
    "\n",
    "mask('geo_masked','g',path_file_1)\n",
    "mask('mag_masked','v',path_file_1,path_file_2)\n",
    "mask('vx_masked','vx',path_file_1,path_file_3)\n",
    "mask('vy_masked','vy',path_file_1,path_file_4)\n",
    "mask('p_masked','p',path_file_1,path_file_5)"
   ]
  },
  {
   "cell_type": "code",
   "execution_count": null,
   "id": "e2015e63-d6e0-41ea-8008-42d7eb214bb6",
   "metadata": {},
   "outputs": [],
   "source": [
    "# ******** 3 ************\n",
    "create_files('/geo_masked')\n",
    "create_files('/mag_masked')\n",
    "create_files('/vx_masked')\n",
    "create_files('/vy_masked')\n",
    "create_files('/p_masked')"
   ]
  },
  {
   "cell_type": "markdown",
   "id": "4cc2cc05-490c-4ddd-8965-8c26a8af5e98",
   "metadata": {},
   "source": [
    "### Working with ImageDataGenerator"
   ]
  },
  {
   "cell_type": "code",
   "execution_count": 8,
   "id": "537c8085-4d61-4d29-8c53-fc067d448c4f",
   "metadata": {},
   "outputs": [],
   "source": [
    "def dataset(directory,batch_size=32):\n",
    "    data = keras.utils.image_dataset_from_directory(directory,\n",
    "    labels=None,\n",
    "    label_mode=None,\n",
    "    image_size=(128, 256),\n",
    "    color_mode=\"grayscale\",\n",
    "    shuffle=False,\n",
    "    batch_size=batch_size)\n",
    "    return data"
   ]
  },
  {
   "cell_type": "code",
   "execution_count": 9,
   "id": "335ae574-f340-4085-91f5-4ac39147dceb",
   "metadata": {},
   "outputs": [],
   "source": [
    "path_1= general_directory + '/geo_masked' + '/train'\n",
    "path_2= general_directory + '/geo_masked' + '/test'\n",
    "path_3= general_directory + '/geo_masked' + '/valid'\n",
    "\n",
    "path_4= general_directory + '/mag_masked' + '/train'\n",
    "path_5= general_directory + '/mag_masked' + '/test'\n",
    "path_6= general_directory + '/mag_masked' + '/valid'\n",
    "\n",
    "path_7= general_directory + '/vx_masked' + '/train'\n",
    "path_8= general_directory + '/vx_masked' + '/test'\n",
    "path_9= general_directory + '/vx_masked' + '/valid'\n",
    "\n",
    "path_10= general_directory + '/vy_masked' + '/train'\n",
    "path_11= general_directory + '/vy_masked' + '/test'\n",
    "path_12= general_directory + '/vy_masked' + '/valid'\n",
    "\n",
    "path_13= general_directory + '/p_masked' + '/train'\n",
    "path_14= general_directory + '/p_masked' + '/test'\n",
    "path_15= general_directory + '/p_masked' + '/valid'\n",
    "\n"
   ]
  },
  {
   "cell_type": "code",
   "execution_count": 10,
   "id": "ca04c354-ea4a-4a20-aeca-ee66fbd640c6",
   "metadata": {},
   "outputs": [
    {
     "name": "stdout",
     "output_type": "stream",
     "text": [
      "Found 14000 files.\n",
      "Found 2000 files.\n",
      "Found 4000 files.\n"
     ]
    },
    {
     "name": "stderr",
     "output_type": "stream",
     "text": [
      "I0000 00:00:1746630970.863252    5601 gpu_device.cc:2019] Created device /job:localhost/replica:0/task:0/device:GPU:0 with 2234 MB memory:  -> device: 0, name: NVIDIA GeForce GTX 1650, pci bus id: 0000:01:00.0, compute capability: 7.5\n"
     ]
    },
    {
     "name": "stdout",
     "output_type": "stream",
     "text": [
      "Found 14000 files.\n",
      "Found 2000 files.\n",
      "Found 4000 files.\n",
      "Found 14000 files.\n",
      "Found 2000 files.\n",
      "Found 4000 files.\n",
      "Found 14000 files.\n",
      "Found 2000 files.\n",
      "Found 4000 files.\n",
      "Found 14000 files.\n",
      "Found 2000 files.\n",
      "Found 4000 files.\n"
     ]
    }
   ],
   "source": [
    "g_train = dataset(path_1)\n",
    "g_test  = dataset(path_2)\n",
    "g_valid = dataset(path_3)\n",
    "\n",
    "v_train = dataset(path_4)\n",
    "v_test  = dataset(path_5)\n",
    "v_valid = dataset(path_6)\n",
    "\n",
    "vx_train = dataset(path_7)\n",
    "vx_test  = dataset(path_8)\n",
    "vx_valid = dataset(path_9)\n",
    "\n",
    "vy_train = dataset(path_10)\n",
    "vy_test  = dataset(path_11)\n",
    "vy_valid = dataset(path_12)\n",
    "\n",
    "p_train = dataset(path_13)\n",
    "p_test = dataset(path_14)\n",
    "p_valid  = dataset(path_15)"
   ]
  },
  {
   "cell_type": "code",
   "execution_count": 11,
   "id": "494774c9-0b65-435a-be26-68d680e10f23",
   "metadata": {},
   "outputs": [],
   "source": [
    "# combination of output datasets\n",
    "output_train = tf.data.Dataset.zip((v_train,vx_train,vy_train,p_train))\n",
    "output_test = tf.data.Dataset.zip((v_test,vx_test,vy_test,p_test))\n",
    "output_valid = tf.data.Dataset.zip((v_valid,vx_valid,vy_valid,p_valid))\n",
    "\n",
    "# combination of input datasets with output datasets\n",
    "final_train = tf.data.Dataset.zip((g_train,output_train))\n",
    "final_test = tf.data.Dataset.zip((g_test,output_test))\n",
    "final_valid = tf.data.Dataset.zip((g_valid,output_valid))"
   ]
  },
  {
   "cell_type": "markdown",
   "id": "f192217b-f20b-455c-8944-b8abc625b061",
   "metadata": {},
   "source": [
    "### Model Definition"
   ]
  },
  {
   "cell_type": "code",
   "execution_count": 38,
   "id": "b628f4e2-7b89-49b9-b26b-117ca36ae228",
   "metadata": {},
   "outputs": [
    {
     "data": {
      "text/html": [
       "<pre style=\"white-space:pre;overflow-x:auto;line-height:normal;font-family:Menlo,'DejaVu Sans Mono',consolas,'Courier New',monospace\"><span style=\"font-weight: bold\">Model: \"functional_1\"</span>\n",
       "</pre>\n"
      ],
      "text/plain": [
       "\u001b[1mModel: \"functional_1\"\u001b[0m\n"
      ]
     },
     "metadata": {},
     "output_type": "display_data"
    },
    {
     "data": {
      "text/html": [
       "<pre style=\"white-space:pre;overflow-x:auto;line-height:normal;font-family:Menlo,'DejaVu Sans Mono',consolas,'Courier New',monospace\">┏━━━━━━━━━━━━━━━━━━━━━┳━━━━━━━━━━━━━━━━━━━┳━━━━━━━━━━━━┳━━━━━━━━━━━━━━━━━━━┓\n",
       "┃<span style=\"font-weight: bold\"> Layer (type)        </span>┃<span style=\"font-weight: bold\"> Output Shape      </span>┃<span style=\"font-weight: bold\">    Param # </span>┃<span style=\"font-weight: bold\"> Connected to      </span>┃\n",
       "┡━━━━━━━━━━━━━━━━━━━━━╇━━━━━━━━━━━━━━━━━━━╇━━━━━━━━━━━━╇━━━━━━━━━━━━━━━━━━━┩\n",
       "│ input_layer_1       │ (<span style=\"color: #00d7ff; text-decoration-color: #00d7ff\">None</span>, <span style=\"color: #00af00; text-decoration-color: #00af00\">128</span>, <span style=\"color: #00af00; text-decoration-color: #00af00\">256</span>,  │          <span style=\"color: #00af00; text-decoration-color: #00af00\">0</span> │ -                 │\n",
       "│ (<span style=\"color: #0087ff; text-decoration-color: #0087ff\">InputLayer</span>)        │ <span style=\"color: #00af00; text-decoration-color: #00af00\">1</span>)                │            │                   │\n",
       "├─────────────────────┼───────────────────┼────────────┼───────────────────┤\n",
       "│ conv2d_2 (<span style=\"color: #0087ff; text-decoration-color: #0087ff\">Conv2D</span>)   │ (<span style=\"color: #00d7ff; text-decoration-color: #00d7ff\">None</span>, <span style=\"color: #00af00; text-decoration-color: #00af00\">128</span>, <span style=\"color: #00af00; text-decoration-color: #00af00\">256</span>,  │        <span style=\"color: #00af00; text-decoration-color: #00af00\">320</span> │ input_layer_1[<span style=\"color: #00af00; text-decoration-color: #00af00\">0</span>]… │\n",
       "│                     │ <span style=\"color: #00af00; text-decoration-color: #00af00\">32</span>)               │            │                   │\n",
       "├─────────────────────┼───────────────────┼────────────┼───────────────────┤\n",
       "│ conv2d_3 (<span style=\"color: #0087ff; text-decoration-color: #0087ff\">Conv2D</span>)   │ (<span style=\"color: #00d7ff; text-decoration-color: #00d7ff\">None</span>, <span style=\"color: #00af00; text-decoration-color: #00af00\">128</span>, <span style=\"color: #00af00; text-decoration-color: #00af00\">256</span>,  │     <span style=\"color: #00af00; text-decoration-color: #00af00\">18,496</span> │ conv2d_2[<span style=\"color: #00af00; text-decoration-color: #00af00\">0</span>][<span style=\"color: #00af00; text-decoration-color: #00af00\">0</span>]    │\n",
       "│                     │ <span style=\"color: #00af00; text-decoration-color: #00af00\">64</span>)               │            │                   │\n",
       "├─────────────────────┼───────────────────┼────────────┼───────────────────┤\n",
       "│ output_magnitude    │ (<span style=\"color: #00d7ff; text-decoration-color: #00d7ff\">None</span>, <span style=\"color: #00af00; text-decoration-color: #00af00\">128</span>, <span style=\"color: #00af00; text-decoration-color: #00af00\">256</span>,  │         <span style=\"color: #00af00; text-decoration-color: #00af00\">65</span> │ conv2d_3[<span style=\"color: #00af00; text-decoration-color: #00af00\">0</span>][<span style=\"color: #00af00; text-decoration-color: #00af00\">0</span>]    │\n",
       "│ (<span style=\"color: #0087ff; text-decoration-color: #0087ff\">Conv2D</span>)            │ <span style=\"color: #00af00; text-decoration-color: #00af00\">1</span>)                │            │                   │\n",
       "├─────────────────────┼───────────────────┼────────────┼───────────────────┤\n",
       "│ output_u001         │ (<span style=\"color: #00d7ff; text-decoration-color: #00d7ff\">None</span>, <span style=\"color: #00af00; text-decoration-color: #00af00\">128</span>, <span style=\"color: #00af00; text-decoration-color: #00af00\">256</span>,  │         <span style=\"color: #00af00; text-decoration-color: #00af00\">65</span> │ conv2d_3[<span style=\"color: #00af00; text-decoration-color: #00af00\">0</span>][<span style=\"color: #00af00; text-decoration-color: #00af00\">0</span>]    │\n",
       "│ (<span style=\"color: #0087ff; text-decoration-color: #0087ff\">Conv2D</span>)            │ <span style=\"color: #00af00; text-decoration-color: #00af00\">1</span>)                │            │                   │\n",
       "├─────────────────────┼───────────────────┼────────────┼───────────────────┤\n",
       "│ output_u002         │ (<span style=\"color: #00d7ff; text-decoration-color: #00d7ff\">None</span>, <span style=\"color: #00af00; text-decoration-color: #00af00\">128</span>, <span style=\"color: #00af00; text-decoration-color: #00af00\">256</span>,  │         <span style=\"color: #00af00; text-decoration-color: #00af00\">65</span> │ conv2d_3[<span style=\"color: #00af00; text-decoration-color: #00af00\">0</span>][<span style=\"color: #00af00; text-decoration-color: #00af00\">0</span>]    │\n",
       "│ (<span style=\"color: #0087ff; text-decoration-color: #0087ff\">Conv2D</span>)            │ <span style=\"color: #00af00; text-decoration-color: #00af00\">1</span>)                │            │                   │\n",
       "├─────────────────────┼───────────────────┼────────────┼───────────────────┤\n",
       "│ output_pression     │ (<span style=\"color: #00d7ff; text-decoration-color: #00d7ff\">None</span>, <span style=\"color: #00af00; text-decoration-color: #00af00\">128</span>, <span style=\"color: #00af00; text-decoration-color: #00af00\">256</span>,  │         <span style=\"color: #00af00; text-decoration-color: #00af00\">65</span> │ conv2d_3[<span style=\"color: #00af00; text-decoration-color: #00af00\">0</span>][<span style=\"color: #00af00; text-decoration-color: #00af00\">0</span>]    │\n",
       "│ (<span style=\"color: #0087ff; text-decoration-color: #0087ff\">Conv2D</span>)            │ <span style=\"color: #00af00; text-decoration-color: #00af00\">1</span>)                │            │                   │\n",
       "└─────────────────────┴───────────────────┴────────────┴───────────────────┘\n",
       "</pre>\n"
      ],
      "text/plain": [
       "┏━━━━━━━━━━━━━━━━━━━━━┳━━━━━━━━━━━━━━━━━━━┳━━━━━━━━━━━━┳━━━━━━━━━━━━━━━━━━━┓\n",
       "┃\u001b[1m \u001b[0m\u001b[1mLayer (type)       \u001b[0m\u001b[1m \u001b[0m┃\u001b[1m \u001b[0m\u001b[1mOutput Shape     \u001b[0m\u001b[1m \u001b[0m┃\u001b[1m \u001b[0m\u001b[1m   Param #\u001b[0m\u001b[1m \u001b[0m┃\u001b[1m \u001b[0m\u001b[1mConnected to     \u001b[0m\u001b[1m \u001b[0m┃\n",
       "┡━━━━━━━━━━━━━━━━━━━━━╇━━━━━━━━━━━━━━━━━━━╇━━━━━━━━━━━━╇━━━━━━━━━━━━━━━━━━━┩\n",
       "│ input_layer_1       │ (\u001b[38;5;45mNone\u001b[0m, \u001b[38;5;34m128\u001b[0m, \u001b[38;5;34m256\u001b[0m,  │          \u001b[38;5;34m0\u001b[0m │ -                 │\n",
       "│ (\u001b[38;5;33mInputLayer\u001b[0m)        │ \u001b[38;5;34m1\u001b[0m)                │            │                   │\n",
       "├─────────────────────┼───────────────────┼────────────┼───────────────────┤\n",
       "│ conv2d_2 (\u001b[38;5;33mConv2D\u001b[0m)   │ (\u001b[38;5;45mNone\u001b[0m, \u001b[38;5;34m128\u001b[0m, \u001b[38;5;34m256\u001b[0m,  │        \u001b[38;5;34m320\u001b[0m │ input_layer_1[\u001b[38;5;34m0\u001b[0m]… │\n",
       "│                     │ \u001b[38;5;34m32\u001b[0m)               │            │                   │\n",
       "├─────────────────────┼───────────────────┼────────────┼───────────────────┤\n",
       "│ conv2d_3 (\u001b[38;5;33mConv2D\u001b[0m)   │ (\u001b[38;5;45mNone\u001b[0m, \u001b[38;5;34m128\u001b[0m, \u001b[38;5;34m256\u001b[0m,  │     \u001b[38;5;34m18,496\u001b[0m │ conv2d_2[\u001b[38;5;34m0\u001b[0m][\u001b[38;5;34m0\u001b[0m]    │\n",
       "│                     │ \u001b[38;5;34m64\u001b[0m)               │            │                   │\n",
       "├─────────────────────┼───────────────────┼────────────┼───────────────────┤\n",
       "│ output_magnitude    │ (\u001b[38;5;45mNone\u001b[0m, \u001b[38;5;34m128\u001b[0m, \u001b[38;5;34m256\u001b[0m,  │         \u001b[38;5;34m65\u001b[0m │ conv2d_3[\u001b[38;5;34m0\u001b[0m][\u001b[38;5;34m0\u001b[0m]    │\n",
       "│ (\u001b[38;5;33mConv2D\u001b[0m)            │ \u001b[38;5;34m1\u001b[0m)                │            │                   │\n",
       "├─────────────────────┼───────────────────┼────────────┼───────────────────┤\n",
       "│ output_u001         │ (\u001b[38;5;45mNone\u001b[0m, \u001b[38;5;34m128\u001b[0m, \u001b[38;5;34m256\u001b[0m,  │         \u001b[38;5;34m65\u001b[0m │ conv2d_3[\u001b[38;5;34m0\u001b[0m][\u001b[38;5;34m0\u001b[0m]    │\n",
       "│ (\u001b[38;5;33mConv2D\u001b[0m)            │ \u001b[38;5;34m1\u001b[0m)                │            │                   │\n",
       "├─────────────────────┼───────────────────┼────────────┼───────────────────┤\n",
       "│ output_u002         │ (\u001b[38;5;45mNone\u001b[0m, \u001b[38;5;34m128\u001b[0m, \u001b[38;5;34m256\u001b[0m,  │         \u001b[38;5;34m65\u001b[0m │ conv2d_3[\u001b[38;5;34m0\u001b[0m][\u001b[38;5;34m0\u001b[0m]    │\n",
       "│ (\u001b[38;5;33mConv2D\u001b[0m)            │ \u001b[38;5;34m1\u001b[0m)                │            │                   │\n",
       "├─────────────────────┼───────────────────┼────────────┼───────────────────┤\n",
       "│ output_pression     │ (\u001b[38;5;45mNone\u001b[0m, \u001b[38;5;34m128\u001b[0m, \u001b[38;5;34m256\u001b[0m,  │         \u001b[38;5;34m65\u001b[0m │ conv2d_3[\u001b[38;5;34m0\u001b[0m][\u001b[38;5;34m0\u001b[0m]    │\n",
       "│ (\u001b[38;5;33mConv2D\u001b[0m)            │ \u001b[38;5;34m1\u001b[0m)                │            │                   │\n",
       "└─────────────────────┴───────────────────┴────────────┴───────────────────┘\n"
      ]
     },
     "metadata": {},
     "output_type": "display_data"
    },
    {
     "data": {
      "text/html": [
       "<pre style=\"white-space:pre;overflow-x:auto;line-height:normal;font-family:Menlo,'DejaVu Sans Mono',consolas,'Courier New',monospace\"><span style=\"font-weight: bold\"> Total params: </span><span style=\"color: #00af00; text-decoration-color: #00af00\">19,076</span> (74.52 KB)\n",
       "</pre>\n"
      ],
      "text/plain": [
       "\u001b[1m Total params: \u001b[0m\u001b[38;5;34m19,076\u001b[0m (74.52 KB)\n"
      ]
     },
     "metadata": {},
     "output_type": "display_data"
    },
    {
     "data": {
      "text/html": [
       "<pre style=\"white-space:pre;overflow-x:auto;line-height:normal;font-family:Menlo,'DejaVu Sans Mono',consolas,'Courier New',monospace\"><span style=\"font-weight: bold\"> Trainable params: </span><span style=\"color: #00af00; text-decoration-color: #00af00\">19,076</span> (74.52 KB)\n",
       "</pre>\n"
      ],
      "text/plain": [
       "\u001b[1m Trainable params: \u001b[0m\u001b[38;5;34m19,076\u001b[0m (74.52 KB)\n"
      ]
     },
     "metadata": {},
     "output_type": "display_data"
    },
    {
     "data": {
      "text/html": [
       "<pre style=\"white-space:pre;overflow-x:auto;line-height:normal;font-family:Menlo,'DejaVu Sans Mono',consolas,'Courier New',monospace\"><span style=\"font-weight: bold\"> Non-trainable params: </span><span style=\"color: #00af00; text-decoration-color: #00af00\">0</span> (0.00 B)\n",
       "</pre>\n"
      ],
      "text/plain": [
       "\u001b[1m Non-trainable params: \u001b[0m\u001b[38;5;34m0\u001b[0m (0.00 B)\n"
      ]
     },
     "metadata": {},
     "output_type": "display_data"
    }
   ],
   "source": [
    "img_inputs = keras.Input(shape=(h, w, 1)) \n",
    "\n",
    "# Layers\n",
    "x = Conv2D(32, (3, 3), activation='relu', padding='same')(img_inputs)\n",
    "x = Conv2D(64, (3, 3), activation='relu', padding='same')(x)\n",
    "\n",
    "\n",
    "output1 = Conv2D(1,(1,1),name='output_magnitude')(x)\n",
    "output2 = Conv2D(1,(1,1),name='output_u001')(x)\n",
    "output3 = Conv2D(1,(1,1),name='output_u002')(x)\n",
    "output4 = Conv2D(1,(1,1),name='output_pression')(x)\n",
    "\n",
    "model = keras.Model(inputs=img_inputs, outputs=[output1, output2, output3, output4])\n",
    "\n",
    "model.summary()\n",
    "\n"
   ]
  },
  {
   "cell_type": "code",
   "execution_count": 39,
   "id": "51e31d02-9375-42fc-a192-27ee9ad6dccf",
   "metadata": {},
   "outputs": [
    {
     "name": "stdout",
     "output_type": "stream",
     "text": [
      "Starting trainig\n",
      "Epoch 1/3\n"
     ]
    },
    {
     "name": "stderr",
     "output_type": "stream",
     "text": [
      "2025-05-07 11:47:56.178226: I external/local_xla/xla/service/gpu/autotuning/conv_algorithm_picker.cc:549] Omitted potentially buggy algorithm eng14{k25=0} for conv %cudnn-conv-bias-activation.24 = (f32[32,32,128,256]{3,2,1,0}, u8[0]{0}) custom-call(f32[32,1,128,256]{3,2,1,0} %bitcast.2199, f32[32,1,3,3]{3,2,1,0} %bitcast.2206, f32[32]{0} %bitcast.2747), window={size=3x3 pad=1_1x1_1}, dim_labels=bf01_oi01->bf01, custom_call_target=\"__cudnn$convBiasActivationForward\", metadata={op_type=\"Conv2D\" op_name=\"functional_1_1/conv2d_2_1/convolution\" source_file=\"/home/ppgi/miniconda3/envs/newEnviroment/lib/python3.9/site-packages/tensorflow/python/framework/ops.py\" source_line=1200}, backend_config={\"operation_queue_id\":\"0\",\"wait_on_operation_queues\":[],\"cudnn_conv_backend_config\":{\"conv_result_scale\":1,\"activation_mode\":\"kNone\",\"side_input_scale\":0,\"leakyrelu_alpha\":0},\"force_earliest_schedule\":false}\n",
      "2025-05-07 11:47:56.182117: I external/local_xla/xla/service/gpu/autotuning/conv_algorithm_picker.cc:549] Omitted potentially buggy algorithm eng14{k25=0} for conv %cudnn-conv-bias-activation.25 = (f32[32,64,128,256]{3,2,1,0}, u8[0]{0}) custom-call(f32[32,32,128,256]{3,2,1,0} %bitcast.2801, f32[64,32,3,3]{3,2,1,0} %bitcast.2224, f32[64]{0} %bitcast.2841), window={size=3x3 pad=1_1x1_1}, dim_labels=bf01_oi01->bf01, custom_call_target=\"__cudnn$convBiasActivationForward\", metadata={op_type=\"Conv2D\" op_name=\"functional_1_1/conv2d_3_1/convolution\" source_file=\"/home/ppgi/miniconda3/envs/newEnviroment/lib/python3.9/site-packages/tensorflow/python/framework/ops.py\" source_line=1200}, backend_config={\"operation_queue_id\":\"0\",\"wait_on_operation_queues\":[],\"cudnn_conv_backend_config\":{\"conv_result_scale\":1,\"activation_mode\":\"kNone\",\"side_input_scale\":0,\"leakyrelu_alpha\":0},\"force_earliest_schedule\":false}\n"
     ]
    },
    {
     "name": "stdout",
     "output_type": "stream",
     "text": [
      "\u001b[1m437/438\u001b[0m \u001b[32m━━━━━━━━━━━━━━━━━━━\u001b[0m\u001b[37m━\u001b[0m \u001b[1m0s\u001b[0m 112ms/step - loss: 2726.8831 - output_magnitude_loss: 612.3438 - output_magnitude_mae: 18.1423 - output_pression_loss: 1297.5721 - output_pression_mae: 26.9076 - output_u001_loss: 535.5756 - output_u001_mae: 17.7943 - output_u002_loss: 281.3911 - output_u002_mae: 11.1715"
     ]
    },
    {
     "name": "stderr",
     "output_type": "stream",
     "text": [
      "2025-05-07 11:48:52.072844: I external/local_xla/xla/service/gpu/autotuning/conv_algorithm_picker.cc:549] Omitted potentially buggy algorithm eng14{k25=0} for conv %cudnn-conv-bias-activation.24 = (f32[16,32,128,256]{3,2,1,0}, u8[0]{0}) custom-call(f32[16,1,128,256]{3,2,1,0} %bitcast.2199, f32[32,1,3,3]{3,2,1,0} %bitcast.2206, f32[32]{0} %bitcast.2747), window={size=3x3 pad=1_1x1_1}, dim_labels=bf01_oi01->bf01, custom_call_target=\"__cudnn$convBiasActivationForward\", metadata={op_type=\"Conv2D\" op_name=\"functional_1_1/conv2d_2_1/convolution\" source_file=\"/home/ppgi/miniconda3/envs/newEnviroment/lib/python3.9/site-packages/tensorflow/python/framework/ops.py\" source_line=1200}, backend_config={\"operation_queue_id\":\"0\",\"wait_on_operation_queues\":[],\"cudnn_conv_backend_config\":{\"conv_result_scale\":1,\"activation_mode\":\"kNone\",\"side_input_scale\":0,\"leakyrelu_alpha\":0},\"force_earliest_schedule\":false}\n",
      "2025-05-07 11:48:52.076300: I external/local_xla/xla/service/gpu/autotuning/conv_algorithm_picker.cc:549] Omitted potentially buggy algorithm eng14{k25=0} for conv %cudnn-conv-bias-activation.25 = (f32[16,64,128,256]{3,2,1,0}, u8[0]{0}) custom-call(f32[16,32,128,256]{3,2,1,0} %bitcast.2801, f32[64,32,3,3]{3,2,1,0} %bitcast.2224, f32[64]{0} %bitcast.2841), window={size=3x3 pad=1_1x1_1}, dim_labels=bf01_oi01->bf01, custom_call_target=\"__cudnn$convBiasActivationForward\", metadata={op_type=\"Conv2D\" op_name=\"functional_1_1/conv2d_3_1/convolution\" source_file=\"/home/ppgi/miniconda3/envs/newEnviroment/lib/python3.9/site-packages/tensorflow/python/framework/ops.py\" source_line=1200}, backend_config={\"operation_queue_id\":\"0\",\"wait_on_operation_queues\":[],\"cudnn_conv_backend_config\":{\"conv_result_scale\":1,\"activation_mode\":\"kNone\",\"side_input_scale\":0,\"leakyrelu_alpha\":0},\"force_earliest_schedule\":false}\n"
     ]
    },
    {
     "name": "stdout",
     "output_type": "stream",
     "text": [
      "\u001b[1m438/438\u001b[0m \u001b[32m━━━━━━━━━━━━━━━━━━━━\u001b[0m\u001b[37m\u001b[0m \u001b[1m0s\u001b[0m 121ms/step - loss: 2725.8989 - output_magnitude_loss: 612.0070 - output_magnitude_mae: 18.1385 - output_pression_loss: 1297.3094 - output_pression_mae: 26.9048 - output_u001_loss: 535.3784 - output_u001_mae: 17.7912 - output_u002_loss: 281.2033 - output_u002_mae: 11.1682"
     ]
    },
    {
     "name": "stderr",
     "output_type": "stream",
     "text": [
      "2025-05-07 11:48:56.480832: I external/local_xla/xla/service/gpu/autotuning/conv_algorithm_picker.cc:549] Omitted potentially buggy algorithm eng14{k25=0} for conv %cudnn-conv-bias-activation.18 = (f32[32,32,128,256]{3,2,1,0}, u8[0]{0}) custom-call(f32[32,1,128,256]{3,2,1,0} %bitcast.792, f32[32,1,3,3]{3,2,1,0} %bitcast.799, f32[32]{0} %bitcast.801), window={size=3x3 pad=1_1x1_1}, dim_labels=bf01_oi01->bf01, custom_call_target=\"__cudnn$convBiasActivationForward\", metadata={op_type=\"Conv2D\" op_name=\"functional_1_1/conv2d_2_1/convolution\" source_file=\"/home/ppgi/miniconda3/envs/newEnviroment/lib/python3.9/site-packages/tensorflow/python/framework/ops.py\" source_line=1200}, backend_config={\"operation_queue_id\":\"0\",\"wait_on_operation_queues\":[],\"cudnn_conv_backend_config\":{\"conv_result_scale\":1,\"activation_mode\":\"kRelu\",\"side_input_scale\":0,\"leakyrelu_alpha\":0},\"force_earliest_schedule\":false}\n",
      "2025-05-07 11:48:56.484095: I external/local_xla/xla/service/gpu/autotuning/conv_algorithm_picker.cc:549] Omitted potentially buggy algorithm eng14{k25=0} for conv %cudnn-conv-bias-activation.19 = (f32[32,64,128,256]{3,2,1,0}, u8[0]{0}) custom-call(f32[32,32,128,256]{3,2,1,0} %bitcast.806, f32[64,32,3,3]{3,2,1,0} %bitcast.813, f32[64]{0} %bitcast.815), window={size=3x3 pad=1_1x1_1}, dim_labels=bf01_oi01->bf01, custom_call_target=\"__cudnn$convBiasActivationForward\", metadata={op_type=\"Conv2D\" op_name=\"functional_1_1/conv2d_3_1/convolution\" source_file=\"/home/ppgi/miniconda3/envs/newEnviroment/lib/python3.9/site-packages/tensorflow/python/framework/ops.py\" source_line=1200}, backend_config={\"operation_queue_id\":\"0\",\"wait_on_operation_queues\":[],\"cudnn_conv_backend_config\":{\"conv_result_scale\":1,\"activation_mode\":\"kRelu\",\"side_input_scale\":0,\"leakyrelu_alpha\":0},\"force_earliest_schedule\":false}\n"
     ]
    },
    {
     "name": "stdout",
     "output_type": "stream",
     "text": [
      "\u001b[1m438/438\u001b[0m \u001b[32m━━━━━━━━━━━━━━━━━━━━\u001b[0m\u001b[37m\u001b[0m \u001b[1m67s\u001b[0m 133ms/step - loss: 2724.9192 - output_magnitude_loss: 611.6717 - output_magnitude_mae: 18.1348 - output_pression_loss: 1297.0481 - output_pression_mae: 26.9020 - output_u001_loss: 535.1821 - output_u001_mae: 17.7881 - output_u002_loss: 281.0164 - output_u002_mae: 11.1649 - val_loss: 2162.3511 - val_output_magnitude_loss: 418.5285 - val_output_magnitude_mae: 15.6233 - val_output_pression_loss: 1163.0431 - val_output_pression_mae: 26.1488 - val_output_u001_loss: 413.3249 - val_output_u001_mae: 15.4970 - val_output_u002_loss: 167.4544 - val_output_u002_mae: 9.0064\n",
      "Epoch 2/3\n",
      "\u001b[1m438/438\u001b[0m \u001b[32m━━━━━━━━━━━━━━━━━━━━\u001b[0m\u001b[37m\u001b[0m \u001b[1m52s\u001b[0m 118ms/step - loss: 2171.9771 - output_magnitude_loss: 426.7988 - output_magnitude_mae: 15.9070 - output_pression_loss: 1174.5393 - output_pression_mae: 25.7375 - output_u001_loss: 412.9622 - output_u001_mae: 15.7499 - output_u002_loss: 157.6777 - output_u002_mae: 7.9704 - val_loss: 2154.2007 - val_output_magnitude_loss: 427.7135 - val_output_magnitude_mae: 15.5611 - val_output_pression_loss: 1159.1826 - val_output_pression_mae: 25.9233 - val_output_u001_loss: 403.1679 - val_output_u001_mae: 15.4655 - val_output_u002_loss: 164.1367 - val_output_u002_mae: 8.8178\n",
      "Epoch 3/3\n",
      "\u001b[1m438/438\u001b[0m \u001b[32m━━━━━━━━━━━━━━━━━━━━\u001b[0m\u001b[37m\u001b[0m \u001b[1m51s\u001b[0m 116ms/step - loss: 2159.9834 - output_magnitude_loss: 423.7750 - output_magnitude_mae: 15.8314 - output_pression_loss: 1171.4846 - output_pression_mae: 25.6960 - output_u001_loss: 409.6701 - output_u001_mae: 15.6740 - output_u002_loss: 155.0539 - output_u002_mae: 7.7726 - val_loss: 2208.3640 - val_output_magnitude_loss: 427.6540 - val_output_magnitude_mae: 16.2451 - val_output_pression_loss: 1172.5164 - val_output_pression_mae: 24.3405 - val_output_u001_loss: 422.6692 - val_output_u001_mae: 16.3604 - val_output_u002_loss: 185.5241 - val_output_u002_mae: 10.0446\n"
     ]
    }
   ],
   "source": [
    "model.compile(loss=['mse', 'mse', 'mse', 'mse'], optimizer='RMSprop', metrics=[\"mae\",\"mae\",\"mae\",\"mae\"])\n",
    "\n",
    "print(\"Starting trainig\")\n",
    "\n",
    "history = model.fit(final_train,epochs=3,validation_data = final_valid)\n",
    "   \n",
    "model.compile(optimizer='RMSprop', \n",
    "              loss = {  'output_magnitude': 'mean_squared_error' ,\n",
    "                        'output_u001': 'mean_squared_error' , \n",
    "                        'output_u002': 'mean_squared_error',\n",
    "                        'output_pression': 'mean_squared_error'},\n",
    "              \n",
    "              metrics={ 'output_magnitude': ['mae'],\n",
    "                        'output_u001': ['mae'],\n",
    "                        'output_u002': ['mae'],\n",
    "                        'output_pression': ['mae'] })"
   ]
  },
  {
   "cell_type": "code",
   "execution_count": 40,
   "id": "8e7b2ae1-ae67-4830-8a6f-524717dcaa30",
   "metadata": {},
   "outputs": [
    {
     "name": "stdout",
     "output_type": "stream",
     "text": [
      "\u001b[1m61/63\u001b[0m \u001b[32m━━━━━━━━━━━━━━━━━━━\u001b[0m\u001b[37m━\u001b[0m \u001b[1m0s\u001b[0m 30ms/step - loss: 2285.7231 - output_magnitude_loss: 433.5195 - output_magnitude_mae: 16.2942 - output_pression_loss: 1234.8997 - output_pression_mae: 24.9429 - output_u001_loss: 427.9966 - output_u001_mae: 16.4023 - output_u002_loss: 189.3072 - output_u002_mae: 10.0949"
     ]
    },
    {
     "name": "stderr",
     "output_type": "stream",
     "text": [
      "2025-05-07 11:50:52.279480: I external/local_xla/xla/service/gpu/autotuning/conv_algorithm_picker.cc:549] Omitted potentially buggy algorithm eng14{k25=0} for conv %cudnn-conv-bias-activation.18 = (f32[16,32,128,256]{3,2,1,0}, u8[0]{0}) custom-call(f32[16,1,128,256]{3,2,1,0} %bitcast.792, f32[32,1,3,3]{3,2,1,0} %bitcast.799, f32[32]{0} %bitcast.801), window={size=3x3 pad=1_1x1_1}, dim_labels=bf01_oi01->bf01, custom_call_target=\"__cudnn$convBiasActivationForward\", metadata={op_type=\"Conv2D\" op_name=\"functional_1_1/conv2d_2_1/convolution\" source_file=\"/home/ppgi/miniconda3/envs/newEnviroment/lib/python3.9/site-packages/tensorflow/python/framework/ops.py\" source_line=1200}, backend_config={\"operation_queue_id\":\"0\",\"wait_on_operation_queues\":[],\"cudnn_conv_backend_config\":{\"conv_result_scale\":1,\"activation_mode\":\"kRelu\",\"side_input_scale\":0,\"leakyrelu_alpha\":0},\"force_earliest_schedule\":false}\n",
      "2025-05-07 11:50:52.282542: I external/local_xla/xla/service/gpu/autotuning/conv_algorithm_picker.cc:549] Omitted potentially buggy algorithm eng14{k25=0} for conv %cudnn-conv-bias-activation.19 = (f32[16,64,128,256]{3,2,1,0}, u8[0]{0}) custom-call(f32[16,32,128,256]{3,2,1,0} %bitcast.806, f32[64,32,3,3]{3,2,1,0} %bitcast.813, f32[64]{0} %bitcast.815), window={size=3x3 pad=1_1x1_1}, dim_labels=bf01_oi01->bf01, custom_call_target=\"__cudnn$convBiasActivationForward\", metadata={op_type=\"Conv2D\" op_name=\"functional_1_1/conv2d_3_1/convolution\" source_file=\"/home/ppgi/miniconda3/envs/newEnviroment/lib/python3.9/site-packages/tensorflow/python/framework/ops.py\" source_line=1200}, backend_config={\"operation_queue_id\":\"0\",\"wait_on_operation_queues\":[],\"cudnn_conv_backend_config\":{\"conv_result_scale\":1,\"activation_mode\":\"kRelu\",\"side_input_scale\":0,\"leakyrelu_alpha\":0},\"force_earliest_schedule\":false}\n"
     ]
    },
    {
     "name": "stdout",
     "output_type": "stream",
     "text": [
      "\u001b[1m63/63\u001b[0m \u001b[32m━━━━━━━━━━━━━━━━━━━━\u001b[0m\u001b[37m\u001b[0m \u001b[1m4s\u001b[0m 45ms/step - loss: 2282.9944 - output_magnitude_loss: 433.3197 - output_magnitude_mae: 16.2925 - output_pression_loss: 1232.5487 - output_pression_mae: 24.9231 - output_u001_loss: 427.8138 - output_u001_mae: 16.4008 - output_u002_loss: 189.1857 - output_u002_mae: 10.0933\n",
      "Resultados de la evaluación:\n",
      "loss: 2226.1392\n",
      "compile_metrics: 429.1042\n",
      "output_magnitude_loss: 423.9555\n",
      "output_u001_loss: 186.6298\n",
      "output_u002_loss: 1182.4032\n",
      "output_pression_loss: 16.2558\n"
     ]
    }
   ],
   "source": [
    "\n",
    "# model.load_weights('ruta/pesos.h5')\n",
    "\n",
    "results = model.evaluate(final_test) \n",
    "\n",
    "\n",
    "print(\"Resultados de la evaluación:\")\n",
    "for name, value in zip(model.metrics_names, results):\n",
    "    print(f\"{name}: {value:.4f}\")"
   ]
  },
  {
   "cell_type": "markdown",
   "id": "b89803f5-0536-4657-a9a8-b26f4dc0421a",
   "metadata": {},
   "source": [
    "### Predicctions"
   ]
  },
  {
   "cell_type": "code",
   "execution_count": 54,
   "id": "c3733be0-8d5b-4b81-b214-b667f74472fb",
   "metadata": {},
   "outputs": [
    {
     "name": "stdout",
     "output_type": "stream",
     "text": [
      "WARNING:tensorflow:5 out of the last 66 calls to <function TensorFlowTrainer.make_predict_function.<locals>.one_step_on_data_distributed at 0x7fc4ec08c820> triggered tf.function retracing. Tracing is expensive and the excessive number of tracings could be due to (1) creating @tf.function repeatedly in a loop, (2) passing tensors with different shapes, (3) passing Python objects instead of tensors. For (1), please define your @tf.function outside of the loop. For (2), @tf.function has reduce_retracing=True option that can avoid unnecessary retracing. For (3), please refer to https://www.tensorflow.org/guide/function#controlling_retracing and https://www.tensorflow.org/api_docs/python/tf/function for  more details.\n",
      "\u001b[1m63/63\u001b[0m \u001b[32m━━━━━━━━━━━━━━━━━━━━\u001b[0m\u001b[37m\u001b[0m \u001b[1m2s\u001b[0m 28ms/step\n"
     ]
    }
   ],
   "source": [
    "y_pred = model.predict(final_test)"
   ]
  },
  {
   "cell_type": "code",
   "execution_count": 74,
   "id": "5198a24c-b64a-4810-9e90-827bbab658ad",
   "metadata": {},
   "outputs": [
    {
     "name": "stdout",
     "output_type": "stream",
     "text": [
      "\u001b[1m1/1\u001b[0m \u001b[32m━━━━━━━━━━━━━━━━━━━━\u001b[0m\u001b[37m\u001b[0m \u001b[1m0s\u001b[0m 38ms/step\n"
     ]
    },
    {
     "data": {
      "image/png": "[encoded data removed]",
      "text/plain": [
       "<Figure size 1200x400 with 3 Axes>"
      ]
     },
     "metadata": {},
     "output_type": "display_data"
    },
    {
     "data": {
      "image/png": "[encoded data removed]",
      "text/plain": [
       "<Figure size 1200x400 with 3 Axes>"
      ]
     },
     "metadata": {},
     "output_type": "display_data"
    },
    {
     "data": {
      "image/png": "[encoded data removed]",
      "text/plain": [
       "<Figure size 1200x400 with 3 Axes>"
      ]
     },
     "metadata": {},
     "output_type": "display_data"
    },
    {
     "data": {
      "image/png": "[encoded data removed]",
      "text/plain": [
       "<Figure size 1200x400 with 3 Axes>"
      ]
     },
     "metadata": {},
     "output_type": "display_data"
    }
   ],
   "source": [
    "for x_test,y_true in final_test.take(1):\n",
    "    y_pred = model.predict(x_test)\n",
    "    for i in range(4):\n",
    "        fig, axs = plt.subplots(1, 3, figsize=(12, 4))\n",
    "        axs[0].imshow(x_test[0],cmap='gray')\n",
    "        axs[0].set_title(\"Input\")\n",
    "\n",
    "        axs[1].imshow(y_true[i][0],cmap='gray')\n",
    "        axs[1].set_title(f\"True Output {i+1}\")\n",
    "\n",
    "        axs[2].imshow(y_pred[i][0],cmap='gray')\n",
    "        axs[2].set_title(f\"Pred Output {i+1}\")\n",
    "        plt.show()\n",
    "        \n",
    "\n",
    "    "
   ]
  },
  {
   "cell_type": "code",
   "execution_count": 20,
   "id": "3a4e6f4b-af92-464e-8af5-0af77b376a4e",
   "metadata": {},
   "outputs": [
    {
     "data": {
      "image/png": "[encoded data removed]",
      "text/plain": [
       "<Figure size 1000x1000 with 9 Axes>"
      ]
     },
     "metadata": {},
     "output_type": "display_data"
    }
   ],
   "source": [
    "\n",
    "plt.figure(figsize=(10, 10))\n",
    "for xbatches, ybatches in final_test.take(1):\n",
    "  for i in range(8):\n",
    "    ax = plt.subplot(4, 2, i + 1)\n",
    "    plt.imshow(images[i])\n",
    "    plt.axis(\"off\")\n"
   ]
  },
  {
   "cell_type": "code",
   "execution_count": null,
   "id": "119dd5f0-a08a-43f3-a7ab-6b5accf11afb",
   "metadata": {},
   "outputs": [],
   "source": [
    "import matplotlib.pyplot as plt\n",
    "import numpy as np\n",
    "\n",
    "idx = 0  # índice dentro del batch (0 a batch_size-1)\n",
    "\n",
    "input_img = x_batch[idx].numpy()\n",
    "true_imgs = [y[idx].numpy() for y in y_batch]\n",
    "pred_imgs = [y[idx] for y in y_pred]\n",
    "\n",
    "fig, axs = plt.subplots(5, 3, figsize=(12, 15))\n",
    "\n",
    "# Fila 0: entrada\n",
    "axs[0, 1].imshow(input_img)\n",
    "axs[0, 1].set_title(\"Input Image\")\n",
    "axs[0, 0].axis(\"off\")\n",
    "axs[0, 2].axis(\"off\")\n",
    "\n",
    "# Filas 1-4: outputs\n",
    "for i in range(4):\n",
    "    axs[i+1, 0].imshow(true_imgs[i])\n",
    "    axs[i+1, 0].set_title(f\"True Output {i+1}\")\n",
    "    \n",
    "    axs[i+1, 1].imshow(pred_imgs[i])\n",
    "    axs[i+1, 1].set_title(f\"Predicted Output {i+1}\")\n",
    "    \n",
    "    # Mapa de error absoluto (en escala de grises)\n",
    "    abs_error = np.abs(true_imgs[i] - pred_imgs[i])\n",
    "    error_map = np.mean(abs_error, axis=-1)  # promedio sobre canales\n",
    "    axs[i+1, 2].imshow(error_map, cmap='hot')\n",
    "    axs[i+1, 2].set_title(f\"Error Map {i+1}\")\n",
    "\n",
    "# Limpieza\n",
    "for ax in axs.flatten():\n",
    "    ax.axis(\"off\")\n",
    "\n",
    "plt.tight_layout()\n",
    "plt.show()\n"
   ]
  },
  {
   "cell_type": "code",
   "execution_count": null,
   "id": "38d3e92e-fca7-4330-9ff5-a4057f9b90cd",
   "metadata": {},
   "outputs": [],
   "source": []
  }
 ],
 "metadata": {
  "kernelspec": {
   "display_name": "Python 3 (ipykernel)",
   "language": "python",
   "name": "python3"
  },
  "language_info": {
   "codemirror_mode": {
    "name": "ipython",
    "version": 3
   },
   "file_extension": ".py",
   "mimetype": "text/x-python",
   "name": "python",
   "nbconvert_exporter": "python",
   "pygments_lexer": "ipython3",
   "version": "3.9.18"
  }
 },
 "nbformat": 4,
 "nbformat_minor": 5
}
