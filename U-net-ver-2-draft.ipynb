{
 "cells": [
  {
   "cell_type": "markdown",
   "id": "7661eb65-7254-453f-98f0-11f25f94ae7e",
   "metadata": {},
   "source": [
    "### 1. Libraries"
   ]
  },
  {
   "cell_type": "code",
   "execution_count": 1,
   "id": "51e0157a-1a6a-4a13-a098-01f23adca71b",
   "metadata": {},
   "outputs": [
    {
     "name": "stderr",
     "output_type": "stream",
     "text": [
      "2025-04-30 18:48:25.982520: E external/local_xla/xla/stream_executor/cuda/cuda_fft.cc:467] Unable to register cuFFT factory: Attempting to register factory for plugin cuFFT when one has already been registered\n",
      "WARNING: All log messages before absl::InitializeLog() is called are written to STDERR\n",
      "E0000 00:00:1746053305.995998   31427 cuda_dnn.cc:8579] Unable to register cuDNN factory: Attempting to register factory for plugin cuDNN when one has already been registered\n",
      "E0000 00:00:1746053305.999976   31427 cuda_blas.cc:1407] Unable to register cuBLAS factory: Attempting to register factory for plugin cuBLAS when one has already been registered\n",
      "W0000 00:00:1746053306.010518   31427 computation_placer.cc:177] computation placer already registered. Please check linkage and avoid linking the same target more than once.\n",
      "W0000 00:00:1746053306.010536   31427 computation_placer.cc:177] computation placer already registered. Please check linkage and avoid linking the same target more than once.\n",
      "W0000 00:00:1746053306.010538   31427 computation_placer.cc:177] computation placer already registered. Please check linkage and avoid linking the same target more than once.\n",
      "W0000 00:00:1746053306.010539   31427 computation_placer.cc:177] computation placer already registered. Please check linkage and avoid linking the same target more than once.\n",
      "2025-04-30 18:48:26.014281: I tensorflow/core/platform/cpu_feature_guard.cc:210] This TensorFlow binary is optimized to use available CPU instructions in performance-critical operations.\n",
      "To enable the following instructions: AVX2 FMA, in other operations, rebuild TensorFlow with the appropriate compiler flags.\n"
     ]
    }
   ],
   "source": [
    "import keras\n",
    "import datetime\n",
    "import tensorflow                       as tf\n",
    "from tensorflow.keras.callbacks         import TensorBoard\n",
    "from tensorflow.keras.layers            import Input, Lambda, Conv2D,Dropout,MaxPooling2D,Conv2DTranspose,concatenate,BatchNormalization, Activation\n",
    "from tensorflow.keras.models            import Model\n",
    "from tensorflow.keras.optimizers        import Adam\n",
    "from keras.utils                        import plot_model\n",
    "from tensorflow.keras                   import layers, models\n",
    "from tensorflow.keras.losses            import mae\n",
    "import sys\n",
    "import os\n",
    "import numpy as np\n",
    "import math\n",
    "import random, time\n",
    "from pathlib                            import Path\n",
    "\n",
    "import skimage                      as ski\n",
    "from   skimage.filters              import threshold_otsu\n",
    "from   skimage                      import io, color\n",
    "from   skimage.color                import rgb2gray\n",
    "from   skimage                      import filters\n",
    "import cv2                          as cv\n",
    "import matplotlib.pyplot            as plt \n",
    "import gc\n",
    "import glob\n",
    "import cupy as cp\n"
   ]
  },
  {
   "cell_type": "markdown",
   "id": "65f7c858-d131-4ed4-ae66-cab1b06eab5c",
   "metadata": {},
   "source": [
    "### 2. Load directory"
   ]
  },
  {
   "cell_type": "code",
   "execution_count": 2,
   "id": "70a61cf8-3433-4f24-aa2e-6b29086f37f1",
   "metadata": {},
   "outputs": [
    {
     "name": "stdout",
     "output_type": "stream",
     "text": [
      "Found 20001 files.\n"
     ]
    },
    {
     "name": "stderr",
     "output_type": "stream",
     "text": [
      "I0000 00:00:1746053309.482749   31427 gpu_device.cc:2019] Created device /job:localhost/replica:0/task:0/device:GPU:0 with 2206 MB memory:  -> device: 0, name: NVIDIA GeForce GTX 1650, pci bus id: 0000:01:00.0, compute capability: 7.5\n"
     ]
    },
    {
     "name": "stdout",
     "output_type": "stream",
     "text": [
      "Found 20001 files.\n",
      "Found 20001 files.\n",
      "Found 20001 files.\n",
      "Found 20001 files.\n"
     ]
    }
   ],
   "source": [
    "# Main directory \n",
    "directory1 = \"/home/ppgi/Trabajo/Codigos_generate_data/DLCODES-VER-5/Geometry\"\n",
    "directory2 = \"/home/ppgi/Trabajo/Codigos_generate_data/DLCODES-VER-5/Magnitude\"\n",
    "directory3 = \"/home/ppgi/Trabajo/Codigos_generate_data/DLCODES-VER-5/Pression\"\n",
    "directory4 = \"/home/ppgi/Trabajo/Codigos_generate_data/DLCODES-VER-5/U001\"\n",
    "directory5 = \"/home/ppgi/Trabajo/Codigos_generate_data/DLCODES-VER-5/U002\"\n",
    "\n",
    "val_split = 0.2\n",
    "seed = 123\n",
    "batch_size=32\n",
    "\n",
    "# train_genGeometry = keras.utils.image_dataset_from_directory(..., validation_split=val_split, subset='training', seed=seed)\n",
    "# val_genGeometry = keras.utils.image_dataset_from_directory(..., validation_split\n",
    "\n",
    "train_genGeometry = keras.utils.image_dataset_from_directory(directory1+\"/train\",\n",
    "    labels=None,\n",
    "    label_mode=None,\n",
    "    image_size=(128, 256),\n",
    "    color_mode=\"grayscale\",\n",
    "    shuffle=False,\n",
    "    batch_size=batch_size)\n",
    "\n",
    "val_genGeometry = keras.utils.image_dataset_from_directory(directory1+\"/val\",\n",
    "    labels=None,\n",
    "    label_mode=None,\n",
    "    image_size=(128, 256),\n",
    "    color_mode=\"grayscale\",\n",
    "    shuffle=False,\n",
    "    batch_size=batch_size)\n",
    "\n",
    "test_genGeometry = keras.utils.image_dataset_from_directory(directory1+\"/test\",\n",
    "    labels=None,\n",
    "    label_mode=None,\n",
    "    image_size=(128, 256),\n",
    "    color_mode=\"grayscale\",\n",
    "    shuffle=False,\n",
    "    batch_size=batch_size)\n",
    "\n",
    "\n",
    "genMagnitude = keras.utils.image_dataset_from_directory(directory2,\n",
    "    labels=None,\n",
    "    label_mode=None,\n",
    "    image_size=(128, 256),\n",
    "    color_mode=\"grayscale\",\n",
    "    shuffle=False,\n",
    "    batch_size=batch_size)\n",
    "\n",
    "genP= keras.utils.image_dataset_from_directory(directory3,\n",
    "    labels=None,\n",
    "    label_mode=None,\n",
    "    image_size=(128, 256),\n",
    "    color_mode=\"grayscale\",\n",
    "    shuffle=False,\n",
    "    batch_size=batch_size)\n",
    "\n",
    "genU001 = keras.utils.image_dataset_from_directory(directory4,\n",
    "    labels=None,\n",
    "    label_mode=None,\n",
    "    image_size=(128, 256),\n",
    "    color_mode=\"grayscale\",\n",
    "    shuffle=False,\n",
    "    batch_size=batch_size)\n",
    "\n",
    "\n",
    "genU002 = keras.utils.image_dataset_from_directory(directory5,\n",
    "    labels=None,\n",
    "    label_mode=None,\n",
    "    image_size=(128, 256),\n",
    "    color_mode=\"grayscale\",\n",
    "    shuffle=False,\n",
    "    batch_size=batch_size)"
   ]
  },
  {
   "cell_type": "code",
   "execution_count": 4,
   "id": "bb364467-c8b3-4e26-b31f-fbced3b21492",
   "metadata": {},
   "outputs": [
    {
     "data": {
      "text/plain": [
       "<_ZipDataset element_spec=(TensorSpec(shape=(None, 128, 256, 1), dtype=tf.float32, name=None), TensorSpec(shape=(None, 128, 256, 1), dtype=tf.float32, name=None), TensorSpec(shape=(None, 128, 256, 1), dtype=tf.float32, name=None), TensorSpec(shape=(None, 128, 256, 1), dtype=tf.float32, name=None))>"
      ]
     },
     "execution_count": 4,
     "metadata": {},
     "output_type": "execute_result"
    }
   ],
   "source": [
    "# --- Combinar os datasets de saída ---\n",
    "# Cria um dataset que, a cada passo, retorna um tuple com um batch de cada saída\n",
    "output_dataset = tf.data.Dataset.zip((genMagnitude, genP, genU001, genU002))\n",
    "\n",
    "# --- Combinar o dataset de entrada com o dataset de saídas combinadas ---\n",
    "# Cria o dataset final que retorna (input_batch, (output1_batch, output2_batch, ...))\n",
    "combined_dataset = tf.data.Dataset.zip((genGeometry, output_dataset))\n",
    "\n",
    "val_output_dataset = tf.data.Dataset.zip((val_genMagnitude, val_genP, val_genU001, val_genU002))\n",
    "val_combined_dataset = tf.data.Dataset.zip((val_genGeometry, val_output_dataset))\n",
    "\n",
    "test_output_dataset = tf.data.Dataset.zip((test_genMagnitude, test_genP, test_genU001, test_genU002))\n",
    "test_combined_dataset = tf.data.Dataset.zip((test_genGeometry, test_output_dataset))"
   ]
  },
  {
   "cell_type": "code",
   "execution_count": 10,
   "id": "2a30b557-88ba-45a0-8801-705d93141a68",
   "metadata": {},
   "outputs": [
    {
     "data": {
      "text/html": [
       "<pre style=\"white-space:pre;overflow-x:auto;line-height:normal;font-family:Menlo,'DejaVu Sans Mono',consolas,'Courier New',monospace\"><span style=\"font-weight: bold\">Model: \"mnist_model\"</span>\n",
       "</pre>\n"
      ],
      "text/plain": [
       "\u001b[1mModel: \"mnist_model\"\u001b[0m\n"
      ]
     },
     "metadata": {},
     "output_type": "display_data"
    },
    {
     "data": {
      "text/html": [
       "<pre style=\"white-space:pre;overflow-x:auto;line-height:normal;font-family:Menlo,'DejaVu Sans Mono',consolas,'Courier New',monospace\">┏━━━━━━━━━━━━━━━━━━━━━┳━━━━━━━━━━━━━━━━━━━┳━━━━━━━━━━━━┳━━━━━━━━━━━━━━━━━━━┓\n",
       "┃<span style=\"font-weight: bold\"> Layer (type)        </span>┃<span style=\"font-weight: bold\"> Output Shape      </span>┃<span style=\"font-weight: bold\">    Param # </span>┃<span style=\"font-weight: bold\"> Connected to      </span>┃\n",
       "┡━━━━━━━━━━━━━━━━━━━━━╇━━━━━━━━━━━━━━━━━━━╇━━━━━━━━━━━━╇━━━━━━━━━━━━━━━━━━━┩\n",
       "│ input_layer_1       │ (<span style=\"color: #00d7ff; text-decoration-color: #00d7ff\">None</span>, <span style=\"color: #00af00; text-decoration-color: #00af00\">128</span>, <span style=\"color: #00af00; text-decoration-color: #00af00\">256</span>,  │          <span style=\"color: #00af00; text-decoration-color: #00af00\">0</span> │ -                 │\n",
       "│ (<span style=\"color: #0087ff; text-decoration-color: #0087ff\">InputLayer</span>)        │ <span style=\"color: #00af00; text-decoration-color: #00af00\">1</span>)                │            │                   │\n",
       "├─────────────────────┼───────────────────┼────────────┼───────────────────┤\n",
       "│ conv2d_4 (<span style=\"color: #0087ff; text-decoration-color: #0087ff\">Conv2D</span>)   │ (<span style=\"color: #00d7ff; text-decoration-color: #00d7ff\">None</span>, <span style=\"color: #00af00; text-decoration-color: #00af00\">128</span>, <span style=\"color: #00af00; text-decoration-color: #00af00\">256</span>,  │          <span style=\"color: #00af00; text-decoration-color: #00af00\">2</span> │ input_layer_1[<span style=\"color: #00af00; text-decoration-color: #00af00\">0</span>]… │\n",
       "│                     │ <span style=\"color: #00af00; text-decoration-color: #00af00\">1</span>)                │            │                   │\n",
       "├─────────────────────┼───────────────────┼────────────┼───────────────────┤\n",
       "│ conv2d_5 (<span style=\"color: #0087ff; text-decoration-color: #0087ff\">Conv2D</span>)   │ (<span style=\"color: #00d7ff; text-decoration-color: #00d7ff\">None</span>, <span style=\"color: #00af00; text-decoration-color: #00af00\">128</span>, <span style=\"color: #00af00; text-decoration-color: #00af00\">256</span>,  │          <span style=\"color: #00af00; text-decoration-color: #00af00\">2</span> │ input_layer_1[<span style=\"color: #00af00; text-decoration-color: #00af00\">0</span>]… │\n",
       "│                     │ <span style=\"color: #00af00; text-decoration-color: #00af00\">1</span>)                │            │                   │\n",
       "├─────────────────────┼───────────────────┼────────────┼───────────────────┤\n",
       "│ conv2d_6 (<span style=\"color: #0087ff; text-decoration-color: #0087ff\">Conv2D</span>)   │ (<span style=\"color: #00d7ff; text-decoration-color: #00d7ff\">None</span>, <span style=\"color: #00af00; text-decoration-color: #00af00\">128</span>, <span style=\"color: #00af00; text-decoration-color: #00af00\">256</span>,  │          <span style=\"color: #00af00; text-decoration-color: #00af00\">2</span> │ input_layer_1[<span style=\"color: #00af00; text-decoration-color: #00af00\">0</span>]… │\n",
       "│                     │ <span style=\"color: #00af00; text-decoration-color: #00af00\">1</span>)                │            │                   │\n",
       "├─────────────────────┼───────────────────┼────────────┼───────────────────┤\n",
       "│ conv2d_7 (<span style=\"color: #0087ff; text-decoration-color: #0087ff\">Conv2D</span>)   │ (<span style=\"color: #00d7ff; text-decoration-color: #00d7ff\">None</span>, <span style=\"color: #00af00; text-decoration-color: #00af00\">128</span>, <span style=\"color: #00af00; text-decoration-color: #00af00\">256</span>,  │          <span style=\"color: #00af00; text-decoration-color: #00af00\">2</span> │ input_layer_1[<span style=\"color: #00af00; text-decoration-color: #00af00\">0</span>]… │\n",
       "│                     │ <span style=\"color: #00af00; text-decoration-color: #00af00\">1</span>)                │            │                   │\n",
       "└─────────────────────┴───────────────────┴────────────┴───────────────────┘\n",
       "</pre>\n"
      ],
      "text/plain": [
       "┏━━━━━━━━━━━━━━━━━━━━━┳━━━━━━━━━━━━━━━━━━━┳━━━━━━━━━━━━┳━━━━━━━━━━━━━━━━━━━┓\n",
       "┃\u001b[1m \u001b[0m\u001b[1mLayer (type)       \u001b[0m\u001b[1m \u001b[0m┃\u001b[1m \u001b[0m\u001b[1mOutput Shape     \u001b[0m\u001b[1m \u001b[0m┃\u001b[1m \u001b[0m\u001b[1m   Param #\u001b[0m\u001b[1m \u001b[0m┃\u001b[1m \u001b[0m\u001b[1mConnected to     \u001b[0m\u001b[1m \u001b[0m┃\n",
       "┡━━━━━━━━━━━━━━━━━━━━━╇━━━━━━━━━━━━━━━━━━━╇━━━━━━━━━━━━╇━━━━━━━━━━━━━━━━━━━┩\n",
       "│ input_layer_1       │ (\u001b[38;5;45mNone\u001b[0m, \u001b[38;5;34m128\u001b[0m, \u001b[38;5;34m256\u001b[0m,  │          \u001b[38;5;34m0\u001b[0m │ -                 │\n",
       "│ (\u001b[38;5;33mInputLayer\u001b[0m)        │ \u001b[38;5;34m1\u001b[0m)                │            │                   │\n",
       "├─────────────────────┼───────────────────┼────────────┼───────────────────┤\n",
       "│ conv2d_4 (\u001b[38;5;33mConv2D\u001b[0m)   │ (\u001b[38;5;45mNone\u001b[0m, \u001b[38;5;34m128\u001b[0m, \u001b[38;5;34m256\u001b[0m,  │          \u001b[38;5;34m2\u001b[0m │ input_layer_1[\u001b[38;5;34m0\u001b[0m]… │\n",
       "│                     │ \u001b[38;5;34m1\u001b[0m)                │            │                   │\n",
       "├─────────────────────┼───────────────────┼────────────┼───────────────────┤\n",
       "│ conv2d_5 (\u001b[38;5;33mConv2D\u001b[0m)   │ (\u001b[38;5;45mNone\u001b[0m, \u001b[38;5;34m128\u001b[0m, \u001b[38;5;34m256\u001b[0m,  │          \u001b[38;5;34m2\u001b[0m │ input_layer_1[\u001b[38;5;34m0\u001b[0m]… │\n",
       "│                     │ \u001b[38;5;34m1\u001b[0m)                │            │                   │\n",
       "├─────────────────────┼───────────────────┼────────────┼───────────────────┤\n",
       "│ conv2d_6 (\u001b[38;5;33mConv2D\u001b[0m)   │ (\u001b[38;5;45mNone\u001b[0m, \u001b[38;5;34m128\u001b[0m, \u001b[38;5;34m256\u001b[0m,  │          \u001b[38;5;34m2\u001b[0m │ input_layer_1[\u001b[38;5;34m0\u001b[0m]… │\n",
       "│                     │ \u001b[38;5;34m1\u001b[0m)                │            │                   │\n",
       "├─────────────────────┼───────────────────┼────────────┼───────────────────┤\n",
       "│ conv2d_7 (\u001b[38;5;33mConv2D\u001b[0m)   │ (\u001b[38;5;45mNone\u001b[0m, \u001b[38;5;34m128\u001b[0m, \u001b[38;5;34m256\u001b[0m,  │          \u001b[38;5;34m2\u001b[0m │ input_layer_1[\u001b[38;5;34m0\u001b[0m]… │\n",
       "│                     │ \u001b[38;5;34m1\u001b[0m)                │            │                   │\n",
       "└─────────────────────┴───────────────────┴────────────┴───────────────────┘\n"
      ]
     },
     "metadata": {},
     "output_type": "display_data"
    },
    {
     "data": {
      "text/html": [
       "<pre style=\"white-space:pre;overflow-x:auto;line-height:normal;font-family:Menlo,'DejaVu Sans Mono',consolas,'Courier New',monospace\"><span style=\"font-weight: bold\"> Total params: </span><span style=\"color: #00af00; text-decoration-color: #00af00\">8</span> (32.00 B)\n",
       "</pre>\n"
      ],
      "text/plain": [
       "\u001b[1m Total params: \u001b[0m\u001b[38;5;34m8\u001b[0m (32.00 B)\n"
      ]
     },
     "metadata": {},
     "output_type": "display_data"
    },
    {
     "data": {
      "text/html": [
       "<pre style=\"white-space:pre;overflow-x:auto;line-height:normal;font-family:Menlo,'DejaVu Sans Mono',consolas,'Courier New',monospace\"><span style=\"font-weight: bold\"> Trainable params: </span><span style=\"color: #00af00; text-decoration-color: #00af00\">8</span> (32.00 B)\n",
       "</pre>\n"
      ],
      "text/plain": [
       "\u001b[1m Trainable params: \u001b[0m\u001b[38;5;34m8\u001b[0m (32.00 B)\n"
      ]
     },
     "metadata": {},
     "output_type": "display_data"
    },
    {
     "data": {
      "text/html": [
       "<pre style=\"white-space:pre;overflow-x:auto;line-height:normal;font-family:Menlo,'DejaVu Sans Mono',consolas,'Courier New',monospace\"><span style=\"font-weight: bold\"> Non-trainable params: </span><span style=\"color: #00af00; text-decoration-color: #00af00\">0</span> (0.00 B)\n",
       "</pre>\n"
      ],
      "text/plain": [
       "\u001b[1m Non-trainable params: \u001b[0m\u001b[38;5;34m0\u001b[0m (0.00 B)\n"
      ]
     },
     "metadata": {},
     "output_type": "display_data"
    }
   ],
   "source": [
    "img_inputs = keras.Input(shape=(128, 256, 1))\n",
    "\n",
    "output1 = Conv2D(1,(1,1),name='output_magnitude')(img_inputs)\n",
    "output2 = Conv2D(1,(1,1),name='output_pression')(img_inputs)\n",
    "output3 = Conv2D(1,(1,1))(img_inputs)\n",
    "output4 = Conv2D(1,(1,1))(img_inputs)\n",
    "\n",
    "model = keras.Model(inputs=img_inputs, outputs=[output1, output2, output3, output4], name=\"mnist_model\")\n",
    "\n",
    "model.summary()\n",
    "\n",
    "model.compile(loss='mse', optimizer='RMSprop', metrics=[\"mae\",\"mae\",\"mae\",\"mae\"])\n",
    "\n",
    "\n"
   ]
  },
  {
   "cell_type": "code",
   "execution_count": 11,
   "id": "0dda958c-7b35-409d-96fd-ed4a65f996b9",
   "metadata": {},
   "outputs": [
    {
     "name": "stdout",
     "output_type": "stream",
     "text": [
      "Epoch 1/2\n"
     ]
    },
    {
     "name": "stderr",
     "output_type": "stream",
     "text": [
      "WARNING: All log messages before absl::InitializeLog() is called are written to STDERR\n",
      "I0000 00:00:1746053349.909994   31517 service.cc:152] XLA service 0x7fa51c0040c0 initialized for platform CUDA (this does not guarantee that XLA will be used). Devices:\n",
      "I0000 00:00:1746053349.910014   31517 service.cc:160]   StreamExecutor device (0): NVIDIA GeForce GTX 1650, Compute Capability 7.5\n",
      "2025-04-30 18:49:10.013195: I tensorflow/compiler/mlir/tensorflow/utils/dump_mlir_util.cc:269] disabling MLIR crash reproducer, set env var `MLIR_CRASH_REPRODUCER_DIRECTORY` to enable.\n",
      "I0000 00:00:1746053350.101638   31517 cuda_dnn.cc:529] Loaded cuDNN version 90300\n",
      "2025-04-30 18:49:12.175703: E external/local_xla/xla/service/slow_operation_alarm.cc:73] Trying algorithm eng62{k25=2} for conv %cudnn-conv-bw-filter.4 = (f32[1,1,1,1]{3,2,1,0}, u8[0]{0}) custom-call(f32[32,1,128,256]{3,2,1,0} %bitcast.1907, f32[32,1,128,256]{3,2,1,0} %bitcast.1913), window={size=1x1}, dim_labels=bf01_oi01->bf01, custom_call_target=\"__cudnn$convBackwardFilter\", metadata={op_type=\"Conv2DBackpropFilter\" op_name=\"gradient_tape/mnist_model_1/conv2d_7_1/convolution/Conv2DBackpropFilter\" source_file=\"/home/ppgi/miniconda3/envs/newEnviroment/lib/python3.9/site-packages/tensorflow/python/framework/ops.py\" source_line=1200}, backend_config={\"operation_queue_id\":\"0\",\"wait_on_operation_queues\":[],\"cudnn_conv_backend_config\":{\"conv_result_scale\":1,\"activation_mode\":\"kNone\",\"side_input_scale\":0,\"leakyrelu_alpha\":0},\"force_earliest_schedule\":false} is taking a while...\n",
      "2025-04-30 18:49:12.271007: E external/local_xla/xla/service/slow_operation_alarm.cc:140] The operation took 1.0954024s\n",
      "Trying algorithm eng62{k25=2} for conv %cudnn-conv-bw-filter.4 = (f32[1,1,1,1]{3,2,1,0}, u8[0]{0}) custom-call(f32[32,1,128,256]{3,2,1,0} %bitcast.1907, f32[32,1,128,256]{3,2,1,0} %bitcast.1913), window={size=1x1}, dim_labels=bf01_oi01->bf01, custom_call_target=\"__cudnn$convBackwardFilter\", metadata={op_type=\"Conv2DBackpropFilter\" op_name=\"gradient_tape/mnist_model_1/conv2d_7_1/convolution/Conv2DBackpropFilter\" source_file=\"/home/ppgi/miniconda3/envs/newEnviroment/lib/python3.9/site-packages/tensorflow/python/framework/ops.py\" source_line=1200}, backend_config={\"operation_queue_id\":\"0\",\"wait_on_operation_queues\":[],\"cudnn_conv_backend_config\":{\"conv_result_scale\":1,\"activation_mode\":\"kNone\",\"side_input_scale\":0,\"leakyrelu_alpha\":0},\"force_earliest_schedule\":false} is taking a while...\n"
     ]
    },
    {
     "name": "stdout",
     "output_type": "stream",
     "text": [
      "\u001b[1m  9/626\u001b[0m \u001b[37m━━━━━━━━━━━━━━━━━━━━\u001b[0m \u001b[1m10s\u001b[0m 16ms/step - conv2d_4_loss: 8994.0205 - conv2d_4_mae: 91.1596 - conv2d_5_loss: 51015.3789 - conv2d_5_mae: 220.4734 - conv2d_6_loss: 100942.2734 - conv2d_6_mae: 316.2267 - conv2d_7_loss: 18785.7461 - conv2d_7_mae: 136.3454 - loss: 179737.4219"
     ]
    },
    {
     "name": "stderr",
     "output_type": "stream",
     "text": [
      "I0000 00:00:1746053352.653862   31517 device_compiler.h:188] Compiled cluster using XLA!  This line is logged at most once for the lifetime of the process.\n"
     ]
    },
    {
     "name": "stdout",
     "output_type": "stream",
     "text": [
      "\u001b[1m626/626\u001b[0m \u001b[32m━━━━━━━━━━━━━━━━━━━━\u001b[0m\u001b[37m\u001b[0m \u001b[1m17s\u001b[0m 20ms/step - conv2d_4_loss: 5268.6943 - conv2d_4_mae: 65.6733 - conv2d_5_loss: 40455.3750 - conv2d_5_mae: 194.5429 - conv2d_6_loss: 85120.4375 - conv2d_6_mae: 289.3899 - conv2d_7_loss: 12655.7773 - conv2d_7_mae: 109.3016 - loss: 143500.5625\n",
      "Epoch 2/2\n",
      "\u001b[1m626/626\u001b[0m \u001b[32m━━━━━━━━━━━━━━━━━━━━\u001b[0m\u001b[37m\u001b[0m \u001b[1m12s\u001b[0m 19ms/step - conv2d_4_loss: 596.5385 - conv2d_4_mae: 19.1859 - conv2d_5_loss: 9964.4004 - conv2d_5_mae: 91.7429 - conv2d_6_loss: 34537.0859 - conv2d_6_mae: 182.8304 - conv2d_7_loss: 446.7003 - conv2d_7_mae: 15.9847 - loss: 45544.8281\n"
     ]
    },
    {
     "data": {
      "text/plain": [
       "<keras.src.callbacks.history.History at 0x7fa626cc3ee0>"
      ]
     },
     "execution_count": 11,
     "metadata": {},
     "output_type": "execute_result"
    }
   ],
   "source": [
    "model.fit(combined_dataset,\n",
    "          batch_size=32, \n",
    "          epochs=2, \n",
    "          validation_data=val_combined_dataset\n",
    "         )"
   ]
  },
  {
   "cell_type": "code",
   "execution_count": null,
   "id": "3dc6ae24-c616-4e6a-b186-0556b80c48e2",
   "metadata": {},
   "outputs": [],
   "source": [
    "model.evaluate(test_combined_dataset)"
   ]
  },
  {
   "cell_type": "code",
   "execution_count": null,
   "id": "3fcf4fc3-8477-4aa7-bc24-e65d0c204b3a",
   "metadata": {},
   "outputs": [],
   "source": []
  },
  {
   "cell_type": "code",
   "execution_count": null,
   "id": "44d673c4-47d8-4e12-80bc-79966b0e9fa5",
   "metadata": {},
   "outputs": [],
   "source": []
  }
 ],
 "metadata": {
  "kernelspec": {
   "display_name": "Python 3 (ipykernel)",
   "language": "python",
   "name": "python3"
  },
  "language_info": {
   "codemirror_mode": {
    "name": "ipython",
    "version": 3
   },
   "file_extension": ".py",
   "mimetype": "text/x-python",
   "name": "python",
   "nbconvert_exporter": "python",
   "pygments_lexer": "ipython3",
   "version": "3.9.18"
  }
 },
 "nbformat": 4,
 "nbformat_minor": 5
}
